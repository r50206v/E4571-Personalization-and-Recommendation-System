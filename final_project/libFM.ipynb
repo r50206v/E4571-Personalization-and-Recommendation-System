{
 "cells": [
  {
   "cell_type": "code",
   "execution_count": 1,
   "metadata": {},
   "outputs": [],
   "source": [
    "import os\n",
    "import sys\n",
    "import pywFM\n",
    "import numpy as np\n",
    "import pandas as pd\n",
    "import matplotlib.pyplot as plt\n",
    "\n",
    "NumberOfRows = 10000\n",
    "\n",
    "os.environ['LIBFM_PATH'] = os.path.expanduser('/home/jovyan/work/libfm/bin/')\n",
    "filePath = './yelp_dataset/'\n",
    "pd.set_option('display.max_columns', None)\n",
    "%matplotlib inline"
   ]
  },
  {
   "cell_type": "markdown",
   "metadata": {},
   "source": [
    "https://github.com/jfloff/pywFM"
   ]
  },
  {
   "cell_type": "code",
   "execution_count": 2,
   "metadata": {},
   "outputs": [],
   "source": [
    "business = pd.read_csv(filePath + \"business_cleaned.csv\", nrows=10)\n",
    "user = pd.read_csv(filePath + 'user_cleaned.csv', nrows=10)\n",
    "ratings = pd.read_csv(filePath + 'review_cleaned.csv', nrows=10)"
   ]
  },
  {
   "cell_type": "code",
   "execution_count": 3,
   "metadata": {},
   "outputs": [
    {
     "data": {
      "text/html": [
       "<div>\n",
       "<style scoped>\n",
       "    .dataframe tbody tr th:only-of-type {\n",
       "        vertical-align: middle;\n",
       "    }\n",
       "\n",
       "    .dataframe tbody tr th {\n",
       "        vertical-align: top;\n",
       "    }\n",
       "\n",
       "    .dataframe thead th {\n",
       "        text-align: right;\n",
       "    }\n",
       "</style>\n",
       "<table border=\"1\" class=\"dataframe\">\n",
       "  <thead>\n",
       "    <tr style=\"text-align: right;\">\n",
       "      <th></th>\n",
       "      <th>address</th>\n",
       "      <th>attributes</th>\n",
       "      <th>business_id</th>\n",
       "      <th>categories</th>\n",
       "      <th>city</th>\n",
       "      <th>hours</th>\n",
       "      <th>is_open</th>\n",
       "      <th>latitude</th>\n",
       "      <th>longitude</th>\n",
       "      <th>name</th>\n",
       "      <th>postal_code</th>\n",
       "      <th>review_count</th>\n",
       "      <th>stars</th>\n",
       "      <th>state</th>\n",
       "    </tr>\n",
       "  </thead>\n",
       "  <tbody>\n",
       "    <tr>\n",
       "      <th>0</th>\n",
       "      <td>30 Eglinton Avenue W</td>\n",
       "      <td>{'RestaurantsReservations': 'True', 'GoodForMe...</td>\n",
       "      <td>QXAEGFB4oINsVuTFxEYKFQ</td>\n",
       "      <td>Specialty Food, Restaurants, Dim Sum, Imported...</td>\n",
       "      <td>Mississauga</td>\n",
       "      <td>{'Monday': '9:0-0:0', 'Tuesday': '9:0-0:0', 'W...</td>\n",
       "      <td>1</td>\n",
       "      <td>43.605499</td>\n",
       "      <td>-79.652289</td>\n",
       "      <td>Emerald Chinese Restaurant</td>\n",
       "      <td>L5R 3E7</td>\n",
       "      <td>128</td>\n",
       "      <td>2.5</td>\n",
       "      <td>ON</td>\n",
       "    </tr>\n",
       "  </tbody>\n",
       "</table>\n",
       "</div>"
      ],
      "text/plain": [
       "                address                                         attributes  \\\n",
       "0  30 Eglinton Avenue W  {'RestaurantsReservations': 'True', 'GoodForMe...   \n",
       "\n",
       "              business_id                                         categories  \\\n",
       "0  QXAEGFB4oINsVuTFxEYKFQ  Specialty Food, Restaurants, Dim Sum, Imported...   \n",
       "\n",
       "          city                                              hours  is_open  \\\n",
       "0  Mississauga  {'Monday': '9:0-0:0', 'Tuesday': '9:0-0:0', 'W...        1   \n",
       "\n",
       "    latitude  longitude                        name postal_code  review_count  \\\n",
       "0  43.605499 -79.652289  Emerald Chinese Restaurant     L5R 3E7           128   \n",
       "\n",
       "   stars state  \n",
       "0    2.5    ON  "
      ]
     },
     "execution_count": 3,
     "metadata": {},
     "output_type": "execute_result"
    }
   ],
   "source": [
    "business.head(1)"
   ]
  },
  {
   "cell_type": "code",
   "execution_count": 4,
   "metadata": {},
   "outputs": [
    {
     "data": {
      "text/html": [
       "<div>\n",
       "<style scoped>\n",
       "    .dataframe tbody tr th:only-of-type {\n",
       "        vertical-align: middle;\n",
       "    }\n",
       "\n",
       "    .dataframe tbody tr th {\n",
       "        vertical-align: top;\n",
       "    }\n",
       "\n",
       "    .dataframe thead th {\n",
       "        text-align: right;\n",
       "    }\n",
       "</style>\n",
       "<table border=\"1\" class=\"dataframe\">\n",
       "  <thead>\n",
       "    <tr style=\"text-align: right;\">\n",
       "      <th></th>\n",
       "      <th>yelping_since</th>\n",
       "      <th>useful</th>\n",
       "      <th>compliment_photos</th>\n",
       "      <th>compliment_list</th>\n",
       "      <th>compliment_funny</th>\n",
       "      <th>compliment_plain</th>\n",
       "      <th>review_count</th>\n",
       "      <th>friends</th>\n",
       "      <th>fans</th>\n",
       "      <th>compliment_note</th>\n",
       "      <th>funny</th>\n",
       "      <th>compliment_writer</th>\n",
       "      <th>compliment_cute</th>\n",
       "      <th>average_stars</th>\n",
       "      <th>user_id</th>\n",
       "      <th>compliment_more</th>\n",
       "      <th>elite</th>\n",
       "      <th>compliment_hot</th>\n",
       "      <th>cool</th>\n",
       "      <th>name</th>\n",
       "      <th>compliment_profile</th>\n",
       "      <th>compliment_cool</th>\n",
       "    </tr>\n",
       "  </thead>\n",
       "  <tbody>\n",
       "    <tr>\n",
       "      <th>0</th>\n",
       "      <td>2013-10-08 23:11:33</td>\n",
       "      <td>84</td>\n",
       "      <td>0</td>\n",
       "      <td>0</td>\n",
       "      <td>1</td>\n",
       "      <td>1</td>\n",
       "      <td>95</td>\n",
       "      <td>c78V-rj8NQcQjOI8KP3UEA, alRMgPcngYSCJ5naFRBz5g...</td>\n",
       "      <td>5</td>\n",
       "      <td>1</td>\n",
       "      <td>17</td>\n",
       "      <td>2</td>\n",
       "      <td>0</td>\n",
       "      <td>4.03</td>\n",
       "      <td>l6BmjZMeQD3rDxWUbiAiow</td>\n",
       "      <td>0</td>\n",
       "      <td>2015,2016,2017</td>\n",
       "      <td>2</td>\n",
       "      <td>25</td>\n",
       "      <td>Rashmi</td>\n",
       "      <td>0</td>\n",
       "      <td>1</td>\n",
       "    </tr>\n",
       "  </tbody>\n",
       "</table>\n",
       "</div>"
      ],
      "text/plain": [
       "         yelping_since  useful  compliment_photos  compliment_list  \\\n",
       "0  2013-10-08 23:11:33      84                  0                0   \n",
       "\n",
       "   compliment_funny  compliment_plain  review_count  \\\n",
       "0                 1                 1            95   \n",
       "\n",
       "                                             friends  fans  compliment_note  \\\n",
       "0  c78V-rj8NQcQjOI8KP3UEA, alRMgPcngYSCJ5naFRBz5g...     5                1   \n",
       "\n",
       "   funny  compliment_writer  compliment_cute  average_stars  \\\n",
       "0     17                  2                0           4.03   \n",
       "\n",
       "                  user_id  compliment_more           elite  compliment_hot  \\\n",
       "0  l6BmjZMeQD3rDxWUbiAiow                0  2015,2016,2017               2   \n",
       "\n",
       "   cool    name  compliment_profile  compliment_cool  \n",
       "0    25  Rashmi                   0                1  "
      ]
     },
     "execution_count": 4,
     "metadata": {},
     "output_type": "execute_result"
    }
   ],
   "source": [
    "user.head(1)"
   ]
  },
  {
   "cell_type": "code",
   "execution_count": 5,
   "metadata": {},
   "outputs": [
    {
     "data": {
      "text/html": [
       "<div>\n",
       "<style scoped>\n",
       "    .dataframe tbody tr th:only-of-type {\n",
       "        vertical-align: middle;\n",
       "    }\n",
       "\n",
       "    .dataframe tbody tr th {\n",
       "        vertical-align: top;\n",
       "    }\n",
       "\n",
       "    .dataframe thead th {\n",
       "        text-align: right;\n",
       "    }\n",
       "</style>\n",
       "<table border=\"1\" class=\"dataframe\">\n",
       "  <thead>\n",
       "    <tr style=\"text-align: right;\">\n",
       "      <th></th>\n",
       "      <th>Unnamed: 0</th>\n",
       "      <th>business_id</th>\n",
       "      <th>cool</th>\n",
       "      <th>date</th>\n",
       "      <th>funny</th>\n",
       "      <th>review_id</th>\n",
       "      <th>stars</th>\n",
       "      <th>text</th>\n",
       "      <th>useful</th>\n",
       "      <th>user_id</th>\n",
       "    </tr>\n",
       "  </thead>\n",
       "  <tbody>\n",
       "    <tr>\n",
       "      <th>0</th>\n",
       "      <td>1</td>\n",
       "      <td>NZnhc2sEQy3RmzKTZnqtwQ</td>\n",
       "      <td>0.0</td>\n",
       "      <td>2017-01-14 21:30:33</td>\n",
       "      <td>0.0</td>\n",
       "      <td>GJXCdrto3ASJOqKeVWPi6Q</td>\n",
       "      <td>5.0</td>\n",
       "      <td>I *adore* Travis at the Hard Rock's new Kelly ...</td>\n",
       "      <td>0.0</td>\n",
       "      <td>yXQM5uF2jS6es16SJzNHfg</td>\n",
       "    </tr>\n",
       "  </tbody>\n",
       "</table>\n",
       "</div>"
      ],
      "text/plain": [
       "   Unnamed: 0             business_id  cool                 date  funny  \\\n",
       "0           1  NZnhc2sEQy3RmzKTZnqtwQ   0.0  2017-01-14 21:30:33    0.0   \n",
       "\n",
       "                review_id  stars  \\\n",
       "0  GJXCdrto3ASJOqKeVWPi6Q    5.0   \n",
       "\n",
       "                                                text  useful  \\\n",
       "0  I *adore* Travis at the Hard Rock's new Kelly ...     0.0   \n",
       "\n",
       "                  user_id  \n",
       "0  yXQM5uF2jS6es16SJzNHfg  "
      ]
     },
     "execution_count": 5,
     "metadata": {},
     "output_type": "execute_result"
    }
   ],
   "source": [
    "ratings.head(1)"
   ]
  },
  {
   "cell_type": "code",
   "execution_count": 6,
   "metadata": {},
   "outputs": [],
   "source": [
    "businuessColumns = ['state', 'business_id'] #'review_count', 'stars', \n",
    "userColumns = [\"user_id\", \"useful\", \"fans\", \"funny\", \"cool\", \"average_stars\", \"review_count\"] #, \"elite\", \"compliment_photos\", \"compliment_list\", \"compliment_funny\", \"compliment_plain\", \"compliment_note\", \"compliment_writer\", \"compliment_cute\", \"compliment_more\", \"compliment_hot\", \"compliment_profile\", \"compliment_cool\",\n",
    "ratingsColumns = [\"business_id\", \"stars\", \"user_id\"] #\"cool\", \"funny\", \"useful\", \n",
    "targetColumn = \"stars\""
   ]
  },
  {
   "cell_type": "code",
   "execution_count": 7,
   "metadata": {},
   "outputs": [],
   "source": [
    "business = pd.read_csv(filePath + \"business_cleaned.csv\", usecols=businuessColumns)\n",
    "user = pd.read_csv(filePath + 'user_cleaned.csv', usecols=userColumns)\n",
    "ratings = pd.read_csv(filePath + 'review_cleaned.csv', usecols=ratingsColumns, nrows=NumberOfRows)"
   ]
  },
  {
   "cell_type": "code",
   "execution_count": 8,
   "metadata": {},
   "outputs": [
    {
     "name": "stdout",
     "output_type": "stream",
     "text": [
      "158525\n",
      "158525\n",
      "818922\n",
      "818922\n"
     ]
    }
   ],
   "source": [
    "print(business['business_id'].nunique())\n",
    "print(business['business_id'].drop_duplicates().shape[0])\n",
    "\n",
    "print(user['user_id'].nunique())\n",
    "print(user['user_id'].drop_duplicates().shape[0])"
   ]
  },
  {
   "cell_type": "code",
   "execution_count": 9,
   "metadata": {},
   "outputs": [],
   "source": [
    "# business.rename(columns={'stars': 'business_average_stars', 'review_count': 'business_review_count'}, inplace=True)\n",
    "# user.rename(columns={'review_count': 'user_review_count'}, inplace=True)"
   ]
  },
  {
   "cell_type": "code",
   "execution_count": 10,
   "metadata": {},
   "outputs": [],
   "source": [
    "# business[['business_review_count']].loc[business['business_review_count'] < 200].hist(bins=5)\n",
    "# plt.figure(figsize=(15, 8))\n",
    "\n",
    "# business[['business_review_count']].loc[business['business_review_count'] > 200].hist(bins=5)"
   ]
  },
  {
   "cell_type": "code",
   "execution_count": null,
   "metadata": {},
   "outputs": [],
   "source": []
  },
  {
   "cell_type": "code",
   "execution_count": null,
   "metadata": {},
   "outputs": [],
   "source": []
  },
  {
   "cell_type": "code",
   "execution_count": 11,
   "metadata": {},
   "outputs": [],
   "source": [
    "ratings = pd.merge(ratings, business, how='left', left_on='business_id', right_on='business_id')\n",
    "ratings = pd.merge(ratings, user, how='left', left_on='user_id', right_on='user_id')"
   ]
  },
  {
   "cell_type": "code",
   "execution_count": 12,
   "metadata": {},
   "outputs": [
    {
     "data": {
      "text/plain": [
       "(10000, 10)"
      ]
     },
     "execution_count": 12,
     "metadata": {},
     "output_type": "execute_result"
    }
   ],
   "source": [
    "ratings.shape"
   ]
  },
  {
   "cell_type": "code",
   "execution_count": 13,
   "metadata": {},
   "outputs": [],
   "source": [
    "ratings['business_id'] = ratings['business_id'].astype('category')\n",
    "ratings['business_id'] = ratings['business_id'].cat.codes\n",
    "\n",
    "ratings['user_id'] = ratings['user_id'].astype('category')\n",
    "ratings['user_id'] = ratings['user_id'].cat.codes"
   ]
  },
  {
   "cell_type": "code",
   "execution_count": 14,
   "metadata": {},
   "outputs": [
    {
     "data": {
      "text/html": [
       "<div>\n",
       "<style scoped>\n",
       "    .dataframe tbody tr th:only-of-type {\n",
       "        vertical-align: middle;\n",
       "    }\n",
       "\n",
       "    .dataframe tbody tr th {\n",
       "        vertical-align: top;\n",
       "    }\n",
       "\n",
       "    .dataframe thead th {\n",
       "        text-align: right;\n",
       "    }\n",
       "</style>\n",
       "<table border=\"1\" class=\"dataframe\">\n",
       "  <thead>\n",
       "    <tr style=\"text-align: right;\">\n",
       "      <th></th>\n",
       "      <th>business_id</th>\n",
       "      <th>stars</th>\n",
       "      <th>user_id</th>\n",
       "      <th>state</th>\n",
       "      <th>useful</th>\n",
       "      <th>review_count</th>\n",
       "      <th>fans</th>\n",
       "      <th>funny</th>\n",
       "      <th>average_stars</th>\n",
       "      <th>cool</th>\n",
       "    </tr>\n",
       "  </thead>\n",
       "  <tbody>\n",
       "    <tr>\n",
       "      <th>0</th>\n",
       "      <td>1577</td>\n",
       "      <td>5.0</td>\n",
       "      <td>9111</td>\n",
       "      <td>NV</td>\n",
       "      <td>178</td>\n",
       "      <td>68</td>\n",
       "      <td>3</td>\n",
       "      <td>36</td>\n",
       "      <td>3.97</td>\n",
       "      <td>67</td>\n",
       "    </tr>\n",
       "    <tr>\n",
       "      <th>1</th>\n",
       "      <td>2151</td>\n",
       "      <td>5.0</td>\n",
       "      <td>7480</td>\n",
       "      <td>AZ</td>\n",
       "      <td>13</td>\n",
       "      <td>10</td>\n",
       "      <td>1</td>\n",
       "      <td>1</td>\n",
       "      <td>4.27</td>\n",
       "      <td>1</td>\n",
       "    </tr>\n",
       "    <tr>\n",
       "      <th>2</th>\n",
       "      <td>289</td>\n",
       "      <td>3.0</td>\n",
       "      <td>6987</td>\n",
       "      <td>ON</td>\n",
       "      <td>4346</td>\n",
       "      <td>600</td>\n",
       "      <td>83</td>\n",
       "      <td>2302</td>\n",
       "      <td>3.75</td>\n",
       "      <td>4067</td>\n",
       "    </tr>\n",
       "    <tr>\n",
       "      <th>3</th>\n",
       "      <td>2315</td>\n",
       "      <td>5.0</td>\n",
       "      <td>3657</td>\n",
       "      <td>ON</td>\n",
       "      <td>2</td>\n",
       "      <td>9</td>\n",
       "      <td>0</td>\n",
       "      <td>1</td>\n",
       "      <td>2.30</td>\n",
       "      <td>0</td>\n",
       "    </tr>\n",
       "    <tr>\n",
       "      <th>4</th>\n",
       "      <td>1603</td>\n",
       "      <td>4.0</td>\n",
       "      <td>1350</td>\n",
       "      <td>OH</td>\n",
       "      <td>3</td>\n",
       "      <td>14</td>\n",
       "      <td>0</td>\n",
       "      <td>1</td>\n",
       "      <td>4.00</td>\n",
       "      <td>3</td>\n",
       "    </tr>\n",
       "  </tbody>\n",
       "</table>\n",
       "</div>"
      ],
      "text/plain": [
       "   business_id  stars  user_id state  useful  review_count  fans  funny  \\\n",
       "0         1577    5.0     9111    NV     178            68     3     36   \n",
       "1         2151    5.0     7480    AZ      13            10     1      1   \n",
       "2          289    3.0     6987    ON    4346           600    83   2302   \n",
       "3         2315    5.0     3657    ON       2             9     0      1   \n",
       "4         1603    4.0     1350    OH       3            14     0      1   \n",
       "\n",
       "   average_stars  cool  \n",
       "0           3.97    67  \n",
       "1           4.27     1  \n",
       "2           3.75  4067  \n",
       "3           2.30     0  \n",
       "4           4.00     3  "
      ]
     },
     "execution_count": 14,
     "metadata": {},
     "output_type": "execute_result"
    }
   ],
   "source": [
    "ratings.head()"
   ]
  },
  {
   "cell_type": "code",
   "execution_count": 15,
   "metadata": {},
   "outputs": [],
   "source": [
    "def convertDummies(df, column_name):\n",
    "    df = pd.concat([\n",
    "        df.drop(column_name, axis=1),\n",
    "        pd.get_dummies(df[column_name], prefix=column_name+'_')\n",
    "    ], axis=1)\n",
    "    print(column_name, ' is ready.')\n",
    "    return df"
   ]
  },
  {
   "cell_type": "code",
   "execution_count": 16,
   "metadata": {},
   "outputs": [
    {
     "name": "stdout",
     "output_type": "stream",
     "text": [
      "business_id  is ready.\n",
      "user_id  is ready.\n",
      "state  is ready.\n"
     ]
    }
   ],
   "source": [
    "ratings = convertDummies(ratings, 'business_id')\n",
    "ratings = convertDummies(ratings, 'user_id')\n",
    "ratings = convertDummies(ratings, 'state')"
   ]
  },
  {
   "cell_type": "code",
   "execution_count": null,
   "metadata": {},
   "outputs": [],
   "source": [
    "ratings.head()"
   ]
  },
  {
   "cell_type": "code",
   "execution_count": null,
   "metadata": {},
   "outputs": [],
   "source": []
  },
  {
   "cell_type": "code",
   "execution_count": null,
   "metadata": {},
   "outputs": [],
   "source": []
  },
  {
   "cell_type": "code",
   "execution_count": 17,
   "metadata": {},
   "outputs": [],
   "source": [
    "train_X = ratings.drop(targetColumn, axis=1).iloc[:-2000]\n",
    "train_y = ratings[targetColumn].iloc[:-2000]\n",
    "\n",
    "test_X = ratings.drop(targetColumn, axis=1).iloc[-2000:]\n",
    "test_y = ratings[targetColumn].iloc[-2000:]"
   ]
  },
  {
   "cell_type": "code",
   "execution_count": 25,
   "metadata": {},
   "outputs": [],
   "source": [
    "fm = pywFM.FM(task='regression')\n",
    "model = fm.run(train_X.values, train_y.values, test_X, test_y)"
   ]
  },
  {
   "cell_type": "code",
   "execution_count": 26,
   "metadata": {},
   "outputs": [
    {
     "data": {
      "text/html": [
       "<div>\n",
       "<style scoped>\n",
       "    .dataframe tbody tr th:only-of-type {\n",
       "        vertical-align: middle;\n",
       "    }\n",
       "\n",
       "    .dataframe tbody tr th {\n",
       "        vertical-align: top;\n",
       "    }\n",
       "\n",
       "    .dataframe thead th {\n",
       "        text-align: right;\n",
       "    }\n",
       "</style>\n",
       "<table border=\"1\" class=\"dataframe\">\n",
       "  <thead>\n",
       "    <tr style=\"text-align: right;\">\n",
       "      <th></th>\n",
       "      <th>stars</th>\n",
       "      <th>predicted</th>\n",
       "    </tr>\n",
       "  </thead>\n",
       "  <tbody>\n",
       "    <tr>\n",
       "      <th>0</th>\n",
       "      <td>5.0</td>\n",
       "      <td>1.64</td>\n",
       "    </tr>\n",
       "    <tr>\n",
       "      <th>1</th>\n",
       "      <td>4.0</td>\n",
       "      <td>1.28</td>\n",
       "    </tr>\n",
       "    <tr>\n",
       "      <th>2</th>\n",
       "      <td>5.0</td>\n",
       "      <td>1.56</td>\n",
       "    </tr>\n",
       "    <tr>\n",
       "      <th>3</th>\n",
       "      <td>1.0</td>\n",
       "      <td>1.60</td>\n",
       "    </tr>\n",
       "    <tr>\n",
       "      <th>4</th>\n",
       "      <td>1.0</td>\n",
       "      <td>1.52</td>\n",
       "    </tr>\n",
       "  </tbody>\n",
       "</table>\n",
       "</div>"
      ],
      "text/plain": [
       "   stars  predicted\n",
       "0    5.0       1.64\n",
       "1    4.0       1.28\n",
       "2    5.0       1.56\n",
       "3    1.0       1.60\n",
       "4    1.0       1.52"
      ]
     },
     "execution_count": 26,
     "metadata": {},
     "output_type": "execute_result"
    }
   ],
   "source": [
    "pd.concat([test_y.reset_index(drop=True), pd.Series(model.predictions, name='predicted')], axis=1).head()"
   ]
  },
  {
   "cell_type": "code",
   "execution_count": 27,
   "metadata": {},
   "outputs": [
    {
     "data": {
      "text/plain": [
       "2.6375188272475514"
      ]
     },
     "execution_count": 27,
     "metadata": {},
     "output_type": "execute_result"
    }
   ],
   "source": [
    "from sklearn.metrics import mean_squared_error\n",
    "np.sqrt(mean_squared_error(test_y.values, model.predictions))"
   ]
  },
  {
   "cell_type": "code",
   "execution_count": 28,
   "metadata": {},
   "outputs": [
    {
     "data": {
      "text/plain": [
       "1.442641660288514"
      ]
     },
     "execution_count": 28,
     "metadata": {},
     "output_type": "execute_result"
    }
   ],
   "source": [
    "np.sqrt(mean_squared_error(test_y.values, np.tile(ratings['stars'].mean(), test_y.shape[0])))"
   ]
  },
  {
   "cell_type": "code",
   "execution_count": null,
   "metadata": {},
   "outputs": [],
   "source": []
  }
 ],
 "metadata": {
  "kernelspec": {
   "display_name": "Python 3",
   "language": "python",
   "name": "python3"
  },
  "language_info": {
   "codemirror_mode": {
    "name": "ipython",
    "version": 3
   },
   "file_extension": ".py",
   "mimetype": "text/x-python",
   "name": "python",
   "nbconvert_exporter": "python",
   "pygments_lexer": "ipython3",
   "version": "3.7.3"
  }
 },
 "nbformat": 4,
 "nbformat_minor": 2
}
