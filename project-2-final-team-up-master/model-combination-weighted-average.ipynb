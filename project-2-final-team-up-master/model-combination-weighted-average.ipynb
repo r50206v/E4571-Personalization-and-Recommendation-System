{
 "cells": [
  {
   "cell_type": "code",
   "execution_count": 0,
   "metadata": {
    "colab": {},
    "colab_type": "code",
    "id": "dQ0IwpZeZ6YS"
   },
   "outputs": [],
   "source": [
    "filePath = \"/content/drive/My Drive/Yelp Project/data/\""
   ]
  },
  {
   "cell_type": "code",
   "execution_count": 2,
   "metadata": {
    "colab": {
     "base_uri": "https://localhost:8080/",
     "height": 122
    },
    "colab_type": "code",
    "executionInfo": {
     "elapsed": 20803,
     "status": "ok",
     "timestamp": 1576829079116,
     "user": {
      "displayName": "Jing You",
      "photoUrl": "https://lh3.googleusercontent.com/a-/AAuE7mD9koZmQ--E9TRLRT-H7tZX_IBWzKU9Fpyppeij=s64",
      "userId": "15426669745561256433"
     },
     "user_tz": 300
    },
    "id": "CZR3ghnfaClw",
    "outputId": "021c652c-fa02-436e-f4e3-e293a8204d58"
   },
   "outputs": [
    {
     "name": "stdout",
     "output_type": "stream",
     "text": [
      "Go to this URL in a browser: https://accounts.google.com/o/oauth2/auth?client_id=947318989803-6bn6qk8qdgf4n4g3pfee6491hc0brc4i.apps.googleusercontent.com&redirect_uri=urn%3aietf%3awg%3aoauth%3a2.0%3aoob&response_type=code&scope=email%20https%3a%2f%2fwww.googleapis.com%2fauth%2fdocs.test%20https%3a%2f%2fwww.googleapis.com%2fauth%2fdrive%20https%3a%2f%2fwww.googleapis.com%2fauth%2fdrive.photos.readonly%20https%3a%2f%2fwww.googleapis.com%2fauth%2fpeopleapi.readonly\n",
      "\n",
      "Enter your authorization code:\n",
      "··········\n",
      "Mounted at /content/drive\n"
     ]
    }
   ],
   "source": [
    "from google.colab import drive\n",
    "drive.mount('/content/drive')"
   ]
  },
  {
   "cell_type": "code",
   "execution_count": 0,
   "metadata": {
    "colab": {},
    "colab_type": "code",
    "id": "00kSYxZBaFxk"
   },
   "outputs": [],
   "source": [
    "import pandas as pd\n",
    "import numpy as np\n",
    "seed = 100"
   ]
  },
  {
   "cell_type": "code",
   "execution_count": 0,
   "metadata": {
    "colab": {},
    "colab_type": "code",
    "id": "LA__PY3GaVzb"
   },
   "outputs": [],
   "source": [
    "ratings = pd.read_csv(filePath + 'yelp_ratings.csv')"
   ]
  },
  {
   "cell_type": "code",
   "execution_count": 0,
   "metadata": {
    "colab": {},
    "colab_type": "code",
    "id": "5eQ4i_f3ad8N"
   },
   "outputs": [],
   "source": [
    "text_train = pd.read_csv(filePath + 'textLR_trainPredict.csv')\n",
    "text_ensemble_train = pd.read_csv(filePath + 'textEnsemble_trainPredict.csv')\n",
    "tffm_train = pd.read_csv(filePath + 'tffm_trainPredict.csv')\n",
    "\n",
    "text_pred = pd.read_csv(filePath + 'textLR_testPredict.csv')\n",
    "text_ensemble_pred = pd.read_csv(filePath + 'textEnsemble_testPredict.csv')\n",
    "tffm_pred = pd.read_csv(filePath + 'tffm_testPredict.csv')"
   ]
  },
  {
   "cell_type": "code",
   "execution_count": 8,
   "metadata": {
    "colab": {
     "base_uri": "https://localhost:8080/",
     "height": 34
    },
    "colab_type": "code",
    "executionInfo": {
     "elapsed": 355,
     "status": "ok",
     "timestamp": 1576829160693,
     "user": {
      "displayName": "Jing You",
      "photoUrl": "https://lh3.googleusercontent.com/a-/AAuE7mD9koZmQ--E9TRLRT-H7tZX_IBWzKU9Fpyppeij=s64",
      "userId": "15426669745561256433"
     },
     "user_tz": 300
    },
    "id": "JI7rDh4yl2AO",
    "outputId": "ff4fc6bd-61b0-4123-9932-331b54b9d026"
   },
   "outputs": [
    {
     "data": {
      "text/plain": [
       "((343827,), (343827, 1), (343827, 1), (343827, 1))"
      ]
     },
     "execution_count": 8,
     "metadata": {
      "tags": []
     },
     "output_type": "execute_result"
    }
   ],
   "source": [
    "train_y = ratings.loc[ratings['TrainTest'] == 1]['stars']\n",
    "train_y.shape,text_train.shape, text_ensemble_train.shape,tffm_train.shape"
   ]
  },
  {
   "cell_type": "code",
   "execution_count": 9,
   "metadata": {
    "colab": {
     "base_uri": "https://localhost:8080/",
     "height": 34
    },
    "colab_type": "code",
    "executionInfo": {
     "elapsed": 345,
     "status": "ok",
     "timestamp": 1576829161216,
     "user": {
      "displayName": "Jing You",
      "photoUrl": "https://lh3.googleusercontent.com/a-/AAuE7mD9koZmQ--E9TRLRT-H7tZX_IBWzKU9Fpyppeij=s64",
      "userId": "15426669745561256433"
     },
     "user_tz": 300
    },
    "id": "NiXb3mlWa33B",
    "outputId": "9b4ca52b-b293-4053-9a26-9b62264c482c"
   },
   "outputs": [
    {
     "data": {
      "text/plain": [
       "((48644,), (48644, 1), (48644, 1), (48644, 1))"
      ]
     },
     "execution_count": 9,
     "metadata": {
      "tags": []
     },
     "output_type": "execute_result"
    }
   ],
   "source": [
    "test_y = ratings.loc[ratings['TrainTest'] == 0]['stars']\n",
    "test_y.shape,text_pred.shape, text_ensemble_pred.shape,tffm_pred.shape"
   ]
  },
  {
   "cell_type": "code",
   "execution_count": 0,
   "metadata": {
    "colab": {},
    "colab_type": "code",
    "id": "LTdAGuUJbY9u"
   },
   "outputs": [],
   "source": []
  },
  {
   "cell_type": "code",
   "execution_count": 0,
   "metadata": {
    "colab": {},
    "colab_type": "code",
    "id": "jZFLVvQOl9Cf"
   },
   "outputs": [],
   "source": []
  },
  {
   "cell_type": "code",
   "execution_count": 0,
   "metadata": {
    "colab": {},
    "colab_type": "code",
    "id": "lsyVnrwul9Ga"
   },
   "outputs": [],
   "source": [
    "from sklearn.linear_model import LinearRegression\n",
    "from sklearn.metrics import accuracy_score, mean_squared_error"
   ]
  },
  {
   "cell_type": "code",
   "execution_count": 0,
   "metadata": {
    "colab": {
     "base_uri": "https://localhost:8080/",
     "height": 34
    },
    "colab_type": "code",
    "executionInfo": {
     "elapsed": 341,
     "status": "ok",
     "timestamp": 1576302549224,
     "user": {
      "displayName": "Jing You",
      "photoUrl": "https://lh3.googleusercontent.com/a-/AAuE7mD9koZmQ--E9TRLRT-H7tZX_IBWzKU9Fpyppeij=s64",
      "userId": "15426669745561256433"
     },
     "user_tz": 300
    },
    "id": "7DptWP55mAIV",
    "outputId": "a5114ff6-88aa-48cd-c485-ec6f69477a73"
   },
   "outputs": [
    {
     "data": {
      "text/plain": [
       "array([-0.03555193,  0.48796935,  0.14950828,  0.37141413])"
      ]
     },
     "execution_count": 12,
     "metadata": {
      "tags": []
     },
     "output_type": "execute_result"
    }
   ],
   "source": [
    "train_results = pd.concat([ALS_train['rating'], text_train, text_ensemble_train,tffm_train], axis=1)\n",
    "lr = LinearRegression(fit_intercept=False)\n",
    "lr.fit(train_results, train_y)\n",
    "lr.coef_"
   ]
  },
  {
   "cell_type": "code",
   "execution_count": 12,
   "metadata": {
    "colab": {
     "base_uri": "https://localhost:8080/",
     "height": 34
    },
    "colab_type": "code",
    "executionInfo": {
     "elapsed": 494,
     "status": "ok",
     "timestamp": 1576829197762,
     "user": {
      "displayName": "Jing You",
      "photoUrl": "https://lh3.googleusercontent.com/a-/AAuE7mD9koZmQ--E9TRLRT-H7tZX_IBWzKU9Fpyppeij=s64",
      "userId": "15426669745561256433"
     },
     "user_tz": 300
    },
    "id": "3Cw_gwnHmaYo",
    "outputId": "c5bada56-ff6f-4f55-f2da-c20cd0232a9b"
   },
   "outputs": [
    {
     "data": {
      "text/plain": [
       "array([0.44874312, 0.17398803, 0.35240145])"
      ]
     },
     "execution_count": 12,
     "metadata": {
      "tags": []
     },
     "output_type": "execute_result"
    }
   ],
   "source": [
    "train_results = pd.concat([text_train, text_ensemble_train,tffm_train], axis=1)\n",
    "lr = LinearRegression(fit_intercept=False)\n",
    "lr.fit(train_results, train_y)\n",
    "lr.coef_"
   ]
  },
  {
   "cell_type": "code",
   "execution_count": 0,
   "metadata": {
    "colab": {},
    "colab_type": "code",
    "id": "tHupOzwZmab6"
   },
   "outputs": [],
   "source": [
    "pred_results = pd.concat([text_pred, text_ensemble_pred,tffm_pred], axis=1)\n",
    "final_pred = pred_results.mul(lr.coef_).sum(axis=1)"
   ]
  },
  {
   "cell_type": "code",
   "execution_count": 15,
   "metadata": {
    "colab": {
     "base_uri": "https://localhost:8080/",
     "height": 34
    },
    "colab_type": "code",
    "executionInfo": {
     "elapsed": 394,
     "status": "ok",
     "timestamp": 1576829260481,
     "user": {
      "displayName": "Jing You",
      "photoUrl": "https://lh3.googleusercontent.com/a-/AAuE7mD9koZmQ--E9TRLRT-H7tZX_IBWzKU9Fpyppeij=s64",
      "userId": "15426669745561256433"
     },
     "user_tz": 300
    },
    "id": "vkQbQKxKmzPW",
    "outputId": "30faa377-026f-48bb-be70-ddc5fd6aa1df"
   },
   "outputs": [
    {
     "data": {
      "text/plain": [
       "0.8607017423255952"
      ]
     },
     "execution_count": 15,
     "metadata": {
      "tags": []
     },
     "output_type": "execute_result"
    }
   ],
   "source": [
    "mean_squared_error(test_y, final_pred)"
   ]
  },
  {
   "cell_type": "code",
   "execution_count": 0,
   "metadata": {
    "colab": {},
    "colab_type": "code",
    "id": "yHtW7zV7Zp-E"
   },
   "outputs": [],
   "source": []
  }
 ],
 "metadata": {
  "colab": {
   "collapsed_sections": [],
   "name": "Copy of Model_Combination.ipynb",
   "provenance": [
    {
     "file_id": "1qYjaLYC1opiGxYlIVqfcK6gQfMJl2MvO",
     "timestamp": 1576302301242
    }
   ]
  },
  "kernelspec": {
   "display_name": "Python 3",
   "language": "python",
   "name": "python3"
  },
  "language_info": {
   "codemirror_mode": {
    "name": "ipython",
    "version": 3
   },
   "file_extension": ".py",
   "mimetype": "text/x-python",
   "name": "python",
   "nbconvert_exporter": "python",
   "pygments_lexer": "ipython3",
   "version": "3.8.5"
  }
 },
 "nbformat": 4,
 "nbformat_minor": 1
}
