{
 "cells": [
  {
   "cell_type": "code",
   "execution_count": 0,
   "metadata": {
    "colab": {},
    "colab_type": "code",
    "id": "P6g73SG4czd7"
   },
   "outputs": [],
   "source": [
    "filePath = \"/content/drive/My Drive/Yelp Project/data/\""
   ]
  },
  {
   "cell_type": "code",
   "execution_count": 2,
   "metadata": {
    "colab": {
     "base_uri": "https://localhost:8080/",
     "height": 34
    },
    "colab_type": "code",
    "executionInfo": {
     "elapsed": 430,
     "status": "ok",
     "timestamp": 1576805626229,
     "user": {
      "displayName": "Jing You",
      "photoUrl": "https://lh3.googleusercontent.com/a-/AAuE7mD9koZmQ--E9TRLRT-H7tZX_IBWzKU9Fpyppeij=s64",
      "userId": "15426669745561256433"
     },
     "user_tz": 300
    },
    "id": "yB3qhwzWyH5P",
    "outputId": "f4cf8335-ffb4-4dc1-fe32-39df9bdc9a24"
   },
   "outputs": [
    {
     "name": "stdout",
     "output_type": "stream",
     "text": [
      "Drive already mounted at /content/drive; to attempt to forcibly remount, call drive.mount(\"/content/drive\", force_remount=True).\n"
     ]
    }
   ],
   "source": [
    "from google.colab import drive\n",
    "drive.mount('/content/drive')"
   ]
  },
  {
   "cell_type": "code",
   "execution_count": 0,
   "metadata": {
    "colab": {},
    "colab_type": "code",
    "id": "AMj-h8Vyc2N8"
   },
   "outputs": [],
   "source": [
    "import time\n",
    "import numpy as np\n",
    "import pandas as pd\n",
    "import tensorflow as tf\n",
    "import scipy.sparse as sp\n",
    "import matplotlib.pyplot as plt\n",
    "from sklearn.metrics import roc_auc_score, accuracy_score, mean_squared_error\n",
    "\n",
    "pd.set_option('display.max_columns', None)\n",
    "%matplotlib inline"
   ]
  },
  {
   "cell_type": "code",
   "execution_count": 0,
   "metadata": {
    "colab": {},
    "colab_type": "code",
    "id": "nDEfpg_hdCah"
   },
   "outputs": [],
   "source": [
    "businuessColumns = ['state', 'business_id'] #'review_count', 'stars', \n",
    "userColumns = [\"user_id\", \"average_stars\", \"review_count\"] #, \"elite\", \"compliment_photos\", \"compliment_list\", \"compliment_funny\", \"compliment_plain\", \"compliment_note\", \"compliment_writer\", \"compliment_cute\", \"compliment_more\", \"compliment_hot\", \"compliment_profile\", \"compliment_cool\", \"useful\", \"fans\", \"funny\", \"cool\", \n",
    "ratingsColumns = [\"business_id\", \"stars\", \"user_id\"] #\"cool\", \"funny\", \"useful\", \n",
    "targetColumn = \"stars\""
   ]
  },
  {
   "cell_type": "code",
   "execution_count": 0,
   "metadata": {
    "colab": {},
    "colab_type": "code",
    "id": "9SXPzTdtdExW"
   },
   "outputs": [],
   "source": [
    "business = pd.read_csv(filePath + \"business_cleaned.csv\", usecols=businuessColumns)\n",
    "user = pd.read_csv(filePath + 'user_cleaned.csv', usecols=userColumns)\n",
    "ratings = pd.read_csv(filePath + 'review_cleaned_withTrainTest.csv')"
   ]
  },
  {
   "cell_type": "code",
   "execution_count": 7,
   "metadata": {
    "colab": {
     "base_uri": "https://localhost:8080/",
     "height": 85
    },
    "colab_type": "code",
    "executionInfo": {
     "elapsed": 10798,
     "status": "ok",
     "timestamp": 1576805659233,
     "user": {
      "displayName": "Jing You",
      "photoUrl": "https://lh3.googleusercontent.com/a-/AAuE7mD9koZmQ--E9TRLRT-H7tZX_IBWzKU9Fpyppeij=s64",
      "userId": "15426669745561256433"
     },
     "user_tz": 300
    },
    "id": "jcXWx0cLebCK",
    "outputId": "fa3148f3-4efb-446b-8e44-da11a9b40e90"
   },
   "outputs": [
    {
     "name": "stdout",
     "output_type": "stream",
     "text": [
      "158525\n",
      "158525\n",
      "818922\n",
      "818922\n"
     ]
    }
   ],
   "source": [
    "print(business['business_id'].nunique())\n",
    "print(business['business_id'].drop_duplicates().shape[0])\n",
    "\n",
    "print(user['user_id'].nunique())\n",
    "print(user['user_id'].drop_duplicates().shape[0])"
   ]
  },
  {
   "cell_type": "code",
   "execution_count": 8,
   "metadata": {
    "colab": {
     "base_uri": "https://localhost:8080/",
     "height": 85
    },
    "colab_type": "code",
    "executionInfo": {
     "elapsed": 10375,
     "status": "ok",
     "timestamp": 1576805659329,
     "user": {
      "displayName": "Jing You",
      "photoUrl": "https://lh3.googleusercontent.com/a-/AAuE7mD9koZmQ--E9TRLRT-H7tZX_IBWzKU9Fpyppeij=s64",
      "userId": "15426669745561256433"
     },
     "user_tz": 300
    },
    "id": "loAq8WTWsC0Z",
    "outputId": "10fa8a83-e023-4f70-de64-664597d4720b"
   },
   "outputs": [
    {
     "name": "stdout",
     "output_type": "stream",
     "text": [
      "9017\n",
      "9017\n",
      "48644\n",
      "48644\n"
     ]
    }
   ],
   "source": [
    "print(ratings['business_id'].nunique())\n",
    "print(ratings['business_id'].drop_duplicates().shape[0])\n",
    "\n",
    "print(ratings['user_id'].nunique())\n",
    "print(ratings['user_id'].drop_duplicates().shape[0])"
   ]
  },
  {
   "cell_type": "code",
   "execution_count": 9,
   "metadata": {
    "colab": {
     "base_uri": "https://localhost:8080/",
     "height": 442
    },
    "colab_type": "code",
    "executionInfo": {
     "elapsed": 9954,
     "status": "ok",
     "timestamp": 1576805659331,
     "user": {
      "displayName": "Jing You",
      "photoUrl": "https://lh3.googleusercontent.com/a-/AAuE7mD9koZmQ--E9TRLRT-H7tZX_IBWzKU9Fpyppeij=s64",
      "userId": "15426669745561256433"
     },
     "user_tz": 300
    },
    "id": "OXMljt76sZsU",
    "outputId": "9fbeced1-b20d-4c7a-b1d8-734b23ae2341"
   },
   "outputs": [
    {
     "data": {
      "text/html": [
       "<div>\n",
       "<style scoped>\n",
       "    .dataframe tbody tr th:only-of-type {\n",
       "        vertical-align: middle;\n",
       "    }\n",
       "\n",
       "    .dataframe tbody tr th {\n",
       "        vertical-align: top;\n",
       "    }\n",
       "\n",
       "    .dataframe thead th {\n",
       "        text-align: right;\n",
       "    }\n",
       "</style>\n",
       "<table border=\"1\" class=\"dataframe\">\n",
       "  <thead>\n",
       "    <tr style=\"text-align: right;\">\n",
       "      <th></th>\n",
       "      <th>user_id</th>\n",
       "      <th>date</th>\n",
       "      <th>funny</th>\n",
       "      <th>useful</th>\n",
       "      <th>review_id</th>\n",
       "      <th>text</th>\n",
       "      <th>business_id</th>\n",
       "      <th>stars</th>\n",
       "      <th>cool</th>\n",
       "      <th>TrainTest</th>\n",
       "    </tr>\n",
       "  </thead>\n",
       "  <tbody>\n",
       "    <tr>\n",
       "      <th>0</th>\n",
       "      <td>BKcmc3Rj6L1EHeou_07IUw</td>\n",
       "      <td>2017-01-01 00:00:05</td>\n",
       "      <td>0</td>\n",
       "      <td>0</td>\n",
       "      <td>Mw89_xzMrWBPZJJkdGbnAA</td>\n",
       "      <td>Poor customer service. The only I gave this pl...</td>\n",
       "      <td>gBfPyzPRmeOaj3SdcIj0Rw</td>\n",
       "      <td>2.0</td>\n",
       "      <td>0</td>\n",
       "      <td>1</td>\n",
       "    </tr>\n",
       "    <tr>\n",
       "      <th>1</th>\n",
       "      <td>p4WztGxrJBrVWmt-xmY5Fg</td>\n",
       "      <td>2017-01-01 00:02:38</td>\n",
       "      <td>0</td>\n",
       "      <td>2</td>\n",
       "      <td>B55t0ioeFWWSlAQX4-0Q9Q</td>\n",
       "      <td>Came for brunch after hearing great reviews on...</td>\n",
       "      <td>xBgQ4T6mhS5VsmK9u6mBcg</td>\n",
       "      <td>4.0</td>\n",
       "      <td>0</td>\n",
       "      <td>1</td>\n",
       "    </tr>\n",
       "    <tr>\n",
       "      <th>2</th>\n",
       "      <td>8z-gipHHulR2HAeAE3pWpw</td>\n",
       "      <td>2017-01-01 00:03:16</td>\n",
       "      <td>0</td>\n",
       "      <td>2</td>\n",
       "      <td>OLeTF2dkoqeHo7qaErl2VA</td>\n",
       "      <td>We visited BWW to view the UFC 207 fight. This...</td>\n",
       "      <td>v8QuF4YX9Bb-qEtKLVPrmA</td>\n",
       "      <td>4.0</td>\n",
       "      <td>2</td>\n",
       "      <td>1</td>\n",
       "    </tr>\n",
       "    <tr>\n",
       "      <th>3</th>\n",
       "      <td>xRpAEg0M0azAPuKVg7WtgA</td>\n",
       "      <td>2017-01-01 00:04:18</td>\n",
       "      <td>4</td>\n",
       "      <td>1</td>\n",
       "      <td>GUsBYum0YCipOJ3HNyZ37g</td>\n",
       "      <td>Can't wait until I am 60 then I will get a car...</td>\n",
       "      <td>gjzQoi1AkRxYRl8-dFGGPQ</td>\n",
       "      <td>4.0</td>\n",
       "      <td>1</td>\n",
       "      <td>1</td>\n",
       "    </tr>\n",
       "    <tr>\n",
       "      <th>4</th>\n",
       "      <td>KCcGBudPGBLoviv5BbPiXQ</td>\n",
       "      <td>2017-01-01 00:05:19</td>\n",
       "      <td>0</td>\n",
       "      <td>0</td>\n",
       "      <td>-BlhsXgJFd8bd3_y71CkDw</td>\n",
       "      <td>I just love Nothing Bundt Cakes. They created ...</td>\n",
       "      <td>Ay7SK-nziJ7hnf6V_z6saA</td>\n",
       "      <td>5.0</td>\n",
       "      <td>0</td>\n",
       "      <td>1</td>\n",
       "    </tr>\n",
       "  </tbody>\n",
       "</table>\n",
       "</div>"
      ],
      "text/plain": [
       "                  user_id                 date  funny  useful  \\\n",
       "0  BKcmc3Rj6L1EHeou_07IUw  2017-01-01 00:00:05      0       0   \n",
       "1  p4WztGxrJBrVWmt-xmY5Fg  2017-01-01 00:02:38      0       2   \n",
       "2  8z-gipHHulR2HAeAE3pWpw  2017-01-01 00:03:16      0       2   \n",
       "3  xRpAEg0M0azAPuKVg7WtgA  2017-01-01 00:04:18      4       1   \n",
       "4  KCcGBudPGBLoviv5BbPiXQ  2017-01-01 00:05:19      0       0   \n",
       "\n",
       "                review_id                                               text  \\\n",
       "0  Mw89_xzMrWBPZJJkdGbnAA  Poor customer service. The only I gave this pl...   \n",
       "1  B55t0ioeFWWSlAQX4-0Q9Q  Came for brunch after hearing great reviews on...   \n",
       "2  OLeTF2dkoqeHo7qaErl2VA  We visited BWW to view the UFC 207 fight. This...   \n",
       "3  GUsBYum0YCipOJ3HNyZ37g  Can't wait until I am 60 then I will get a car...   \n",
       "4  -BlhsXgJFd8bd3_y71CkDw  I just love Nothing Bundt Cakes. They created ...   \n",
       "\n",
       "              business_id  stars  cool  TrainTest  \n",
       "0  gBfPyzPRmeOaj3SdcIj0Rw    2.0     0          1  \n",
       "1  xBgQ4T6mhS5VsmK9u6mBcg    4.0     0          1  \n",
       "2  v8QuF4YX9Bb-qEtKLVPrmA    4.0     2          1  \n",
       "3  gjzQoi1AkRxYRl8-dFGGPQ    4.0     1          1  \n",
       "4  Ay7SK-nziJ7hnf6V_z6saA    5.0     0          1  "
      ]
     },
     "execution_count": 9,
     "metadata": {
      "tags": []
     },
     "output_type": "execute_result"
    }
   ],
   "source": [
    "ratings.head()"
   ]
  },
  {
   "cell_type": "code",
   "execution_count": 0,
   "metadata": {
    "colab": {},
    "colab_type": "code",
    "id": "CV1sVEMoNsy8"
   },
   "outputs": [],
   "source": [
    "ratings = pd.merge(ratings, business, how='left', left_on='business_id', right_on='business_id')\n",
    "ratings = pd.merge(ratings, user, how='left', left_on='user_id', right_on='user_id')"
   ]
  },
  {
   "cell_type": "code",
   "execution_count": 0,
   "metadata": {
    "colab": {},
    "colab_type": "code",
    "id": "pMVTGHfxtq1q"
   },
   "outputs": [],
   "source": [
    "def onehot(df,col):\n",
    "  tmp = df[col].value_counts()\n",
    "  tdict = tmp.to_dict()\n",
    "  df[col+'_freq'] = df[col].map(tdict) \n",
    "  df = df.drop(col,axis=1)\n",
    "\n",
    "  freqs= pd.cut(df[col+'_freq'],bins =([0] + np.percentile(tmp,[25,50,75,100]).tolist()),labels=['25%-','25-50%','50-75%','75+'])\n",
    "  df = df.join(pd.get_dummies(freqs,prefix=col+'_freq'))\n",
    "  df = df.drop(col+'_freq',axis=1)\n",
    "\n",
    "  return df"
   ]
  },
  {
   "cell_type": "code",
   "execution_count": 0,
   "metadata": {
    "colab": {},
    "colab_type": "code",
    "id": "Jr6t_y0pMz0i"
   },
   "outputs": [],
   "source": [
    "ratings = onehot(ratings,'user_id')\n",
    "ratings = onehot(ratings,'business_id')"
   ]
  },
  {
   "cell_type": "code",
   "execution_count": 0,
   "metadata": {
    "colab": {},
    "colab_type": "code",
    "id": "vbJR5yaBenh2"
   },
   "outputs": [],
   "source": [
    "ratings = ratings.join(pd.get_dummies(ratings.state))"
   ]
  },
  {
   "cell_type": "code",
   "execution_count": 0,
   "metadata": {
    "colab": {},
    "colab_type": "code",
    "id": "IEjt7Q--sqB1"
   },
   "outputs": [],
   "source": [
    "ratings.drop(['text', 'review_id', 'date','state'], axis=1, inplace=True)"
   ]
  },
  {
   "cell_type": "code",
   "execution_count": 15,
   "metadata": {
    "colab": {
     "base_uri": "https://localhost:8080/",
     "height": 241
    },
    "colab_type": "code",
    "executionInfo": {
     "elapsed": 9636,
     "status": "ok",
     "timestamp": 1576805661287,
     "user": {
      "displayName": "Jing You",
      "photoUrl": "https://lh3.googleusercontent.com/a-/AAuE7mD9koZmQ--E9TRLRT-H7tZX_IBWzKU9Fpyppeij=s64",
      "userId": "15426669745561256433"
     },
     "user_tz": 300
    },
    "id": "mF0Unv1ZtWIe",
    "outputId": "6930eb0b-cd93-47e7-cff0-6fcdf9f28534"
   },
   "outputs": [
    {
     "data": {
      "text/html": [
       "<div>\n",
       "<style scoped>\n",
       "    .dataframe tbody tr th:only-of-type {\n",
       "        vertical-align: middle;\n",
       "    }\n",
       "\n",
       "    .dataframe tbody tr th {\n",
       "        vertical-align: top;\n",
       "    }\n",
       "\n",
       "    .dataframe thead th {\n",
       "        text-align: right;\n",
       "    }\n",
       "</style>\n",
       "<table border=\"1\" class=\"dataframe\">\n",
       "  <thead>\n",
       "    <tr style=\"text-align: right;\">\n",
       "      <th></th>\n",
       "      <th>funny</th>\n",
       "      <th>useful</th>\n",
       "      <th>stars</th>\n",
       "      <th>cool</th>\n",
       "      <th>TrainTest</th>\n",
       "      <th>review_count</th>\n",
       "      <th>average_stars</th>\n",
       "      <th>user_id_freq_25%-</th>\n",
       "      <th>user_id_freq_25-50%</th>\n",
       "      <th>user_id_freq_50-75%</th>\n",
       "      <th>user_id_freq_75+</th>\n",
       "      <th>business_id_freq_25%-</th>\n",
       "      <th>business_id_freq_25-50%</th>\n",
       "      <th>business_id_freq_50-75%</th>\n",
       "      <th>business_id_freq_75+</th>\n",
       "      <th>AB</th>\n",
       "      <th>AZ</th>\n",
       "      <th>FL</th>\n",
       "      <th>IL</th>\n",
       "      <th>NC</th>\n",
       "      <th>NV</th>\n",
       "      <th>OH</th>\n",
       "      <th>ON</th>\n",
       "      <th>PA</th>\n",
       "      <th>QC</th>\n",
       "      <th>SC</th>\n",
       "      <th>WI</th>\n",
       "    </tr>\n",
       "  </thead>\n",
       "  <tbody>\n",
       "    <tr>\n",
       "      <th>0</th>\n",
       "      <td>0</td>\n",
       "      <td>0</td>\n",
       "      <td>2.0</td>\n",
       "      <td>0</td>\n",
       "      <td>1</td>\n",
       "      <td>249</td>\n",
       "      <td>3.22</td>\n",
       "      <td>0</td>\n",
       "      <td>0</td>\n",
       "      <td>1</td>\n",
       "      <td>0</td>\n",
       "      <td>0</td>\n",
       "      <td>0</td>\n",
       "      <td>1</td>\n",
       "      <td>0</td>\n",
       "      <td>0</td>\n",
       "      <td>0</td>\n",
       "      <td>0</td>\n",
       "      <td>0</td>\n",
       "      <td>0</td>\n",
       "      <td>1</td>\n",
       "      <td>0</td>\n",
       "      <td>0</td>\n",
       "      <td>0</td>\n",
       "      <td>0</td>\n",
       "      <td>0</td>\n",
       "      <td>0</td>\n",
       "    </tr>\n",
       "    <tr>\n",
       "      <th>1</th>\n",
       "      <td>0</td>\n",
       "      <td>2</td>\n",
       "      <td>4.0</td>\n",
       "      <td>0</td>\n",
       "      <td>1</td>\n",
       "      <td>136</td>\n",
       "      <td>3.82</td>\n",
       "      <td>0</td>\n",
       "      <td>1</td>\n",
       "      <td>0</td>\n",
       "      <td>0</td>\n",
       "      <td>0</td>\n",
       "      <td>0</td>\n",
       "      <td>1</td>\n",
       "      <td>0</td>\n",
       "      <td>0</td>\n",
       "      <td>0</td>\n",
       "      <td>0</td>\n",
       "      <td>0</td>\n",
       "      <td>0</td>\n",
       "      <td>0</td>\n",
       "      <td>1</td>\n",
       "      <td>0</td>\n",
       "      <td>0</td>\n",
       "      <td>0</td>\n",
       "      <td>0</td>\n",
       "      <td>0</td>\n",
       "    </tr>\n",
       "    <tr>\n",
       "      <th>2</th>\n",
       "      <td>0</td>\n",
       "      <td>2</td>\n",
       "      <td>4.0</td>\n",
       "      <td>2</td>\n",
       "      <td>1</td>\n",
       "      <td>55</td>\n",
       "      <td>3.64</td>\n",
       "      <td>0</td>\n",
       "      <td>1</td>\n",
       "      <td>0</td>\n",
       "      <td>0</td>\n",
       "      <td>0</td>\n",
       "      <td>0</td>\n",
       "      <td>1</td>\n",
       "      <td>0</td>\n",
       "      <td>0</td>\n",
       "      <td>1</td>\n",
       "      <td>0</td>\n",
       "      <td>0</td>\n",
       "      <td>0</td>\n",
       "      <td>0</td>\n",
       "      <td>0</td>\n",
       "      <td>0</td>\n",
       "      <td>0</td>\n",
       "      <td>0</td>\n",
       "      <td>0</td>\n",
       "      <td>0</td>\n",
       "    </tr>\n",
       "    <tr>\n",
       "      <th>3</th>\n",
       "      <td>4</td>\n",
       "      <td>1</td>\n",
       "      <td>4.0</td>\n",
       "      <td>1</td>\n",
       "      <td>1</td>\n",
       "      <td>178</td>\n",
       "      <td>3.42</td>\n",
       "      <td>0</td>\n",
       "      <td>0</td>\n",
       "      <td>0</td>\n",
       "      <td>1</td>\n",
       "      <td>0</td>\n",
       "      <td>0</td>\n",
       "      <td>1</td>\n",
       "      <td>0</td>\n",
       "      <td>0</td>\n",
       "      <td>0</td>\n",
       "      <td>0</td>\n",
       "      <td>0</td>\n",
       "      <td>0</td>\n",
       "      <td>1</td>\n",
       "      <td>0</td>\n",
       "      <td>0</td>\n",
       "      <td>0</td>\n",
       "      <td>0</td>\n",
       "      <td>0</td>\n",
       "      <td>0</td>\n",
       "    </tr>\n",
       "    <tr>\n",
       "      <th>4</th>\n",
       "      <td>0</td>\n",
       "      <td>0</td>\n",
       "      <td>5.0</td>\n",
       "      <td>0</td>\n",
       "      <td>1</td>\n",
       "      <td>43</td>\n",
       "      <td>4.07</td>\n",
       "      <td>0</td>\n",
       "      <td>1</td>\n",
       "      <td>0</td>\n",
       "      <td>0</td>\n",
       "      <td>0</td>\n",
       "      <td>1</td>\n",
       "      <td>0</td>\n",
       "      <td>0</td>\n",
       "      <td>0</td>\n",
       "      <td>1</td>\n",
       "      <td>0</td>\n",
       "      <td>0</td>\n",
       "      <td>0</td>\n",
       "      <td>0</td>\n",
       "      <td>0</td>\n",
       "      <td>0</td>\n",
       "      <td>0</td>\n",
       "      <td>0</td>\n",
       "      <td>0</td>\n",
       "      <td>0</td>\n",
       "    </tr>\n",
       "  </tbody>\n",
       "</table>\n",
       "</div>"
      ],
      "text/plain": [
       "   funny  useful  stars  cool  TrainTest  review_count  average_stars  \\\n",
       "0      0       0    2.0     0          1           249           3.22   \n",
       "1      0       2    4.0     0          1           136           3.82   \n",
       "2      0       2    4.0     2          1            55           3.64   \n",
       "3      4       1    4.0     1          1           178           3.42   \n",
       "4      0       0    5.0     0          1            43           4.07   \n",
       "\n",
       "   user_id_freq_25%-  user_id_freq_25-50%  user_id_freq_50-75%  \\\n",
       "0                  0                    0                    1   \n",
       "1                  0                    1                    0   \n",
       "2                  0                    1                    0   \n",
       "3                  0                    0                    0   \n",
       "4                  0                    1                    0   \n",
       "\n",
       "   user_id_freq_75+  business_id_freq_25%-  business_id_freq_25-50%  \\\n",
       "0                 0                      0                        0   \n",
       "1                 0                      0                        0   \n",
       "2                 0                      0                        0   \n",
       "3                 1                      0                        0   \n",
       "4                 0                      0                        1   \n",
       "\n",
       "   business_id_freq_50-75%  business_id_freq_75+  AB  AZ  FL  IL  NC  NV  OH  \\\n",
       "0                        1                     0   0   0   0   0   0   1   0   \n",
       "1                        1                     0   0   0   0   0   0   0   1   \n",
       "2                        1                     0   0   1   0   0   0   0   0   \n",
       "3                        1                     0   0   0   0   0   0   1   0   \n",
       "4                        0                     0   0   1   0   0   0   0   0   \n",
       "\n",
       "   ON  PA  QC  SC  WI  \n",
       "0   0   0   0   0   0  \n",
       "1   0   0   0   0   0  \n",
       "2   0   0   0   0   0  \n",
       "3   0   0   0   0   0  \n",
       "4   0   0   0   0   0  "
      ]
     },
     "execution_count": 15,
     "metadata": {
      "tags": []
     },
     "output_type": "execute_result"
    }
   ],
   "source": [
    "ratings.head()"
   ]
  },
  {
   "cell_type": "code",
   "execution_count": 0,
   "metadata": {
    "colab": {},
    "colab_type": "code",
    "id": "36k1qXO0eozO"
   },
   "outputs": [],
   "source": [
    "train_X = ratings.drop(targetColumn, axis=1).loc[ratings.TrainTest == 1]\n",
    "train_y = ratings[targetColumn].loc[ratings.TrainTest == 1]\n",
    "\n",
    "test_X = ratings.drop(targetColumn, axis=1).loc[ratings.TrainTest == 0]\n",
    "test_y = ratings[targetColumn].loc[ratings.TrainTest == 0]"
   ]
  },
  {
   "cell_type": "markdown",
   "metadata": {
    "colab_type": "text",
    "id": "1GYr4fSjvm6R"
   },
   "source": []
  },
  {
   "cell_type": "code",
   "execution_count": 0,
   "metadata": {
    "colab": {},
    "colab_type": "code",
    "id": "nwBL8gkF7WgV"
   },
   "outputs": [],
   "source": [
    "train_X = train_X.drop('TrainTest',axis=1)\n",
    "test_X = test_X.drop('TrainTest',axis=1)"
   ]
  },
  {
   "cell_type": "code",
   "execution_count": 0,
   "metadata": {
    "colab": {},
    "colab_type": "code",
    "id": "UmFWCDjqeqjC"
   },
   "outputs": [],
   "source": [
    "tr_X = train_X.to_numpy()\n",
    "tr_y = train_y.to_numpy()\n",
    "te_X = test_X.to_numpy()\n",
    "te_y = test_y.to_numpy()\n",
    "X_tr_sparse = sp.csr_matrix(tr_X)\n",
    "X_te_sparse = sp.csr_matrix(te_X)"
   ]
  },
  {
   "cell_type": "code",
   "execution_count": 19,
   "metadata": {
    "colab": {
     "base_uri": "https://localhost:8080/",
     "height": 496
    },
    "colab_type": "code",
    "executionInfo": {
     "elapsed": 715056,
     "status": "ok",
     "timestamp": 1576806369431,
     "user": {
      "displayName": "Jing You",
      "photoUrl": "https://lh3.googleusercontent.com/a-/AAuE7mD9koZmQ--E9TRLRT-H7tZX_IBWzKU9Fpyppeij=s64",
      "userId": "15426669745561256433"
     },
     "user_tz": 300
    },
    "id": "hqu5phFTes4B",
    "outputId": "8d25ab05-de76-4747-d7ed-e775e5832d59"
   },
   "outputs": [
    {
     "name": "stdout",
     "output_type": "stream",
     "text": [
      "WARNING:tensorflow:From /usr/local/lib/python3.6/dist-packages/tffm/core.py:96: The name tf.train.AdamOptimizer is deprecated. Please use tf.compat.v1.train.AdamOptimizer instead.\n",
      "\n",
      "WARNING:tensorflow:From /usr/local/lib/python3.6/dist-packages/tffm/core.py:122: The name tf.random_uniform is deprecated. Please use tf.random.uniform instead.\n",
      "\n",
      "WARNING:tensorflow:From /usr/local/lib/python3.6/dist-packages/tffm/core.py:123: The name tf.verify_tensor_all_finite is deprecated. Please use tf.compat.v1.verify_tensor_all_finite instead.\n",
      "\n",
      "WARNING:tensorflow:From /usr/local/lib/python3.6/dist-packages/tffm/core.py:127: The name tf.summary.scalar is deprecated. Please use tf.compat.v1.summary.scalar instead.\n",
      "\n",
      "WARNING:tensorflow:From /usr/local/lib/python3.6/dist-packages/tffm/core.py:134: The name tf.placeholder is deprecated. Please use tf.compat.v1.placeholder instead.\n",
      "\n",
      "WARNING:tensorflow:From /usr/local/lib/python3.6/dist-packages/tffm/utils.py:145: The name tf.sparse_tensor_dense_matmul is deprecated. Please use tf.sparse.sparse_dense_matmul instead.\n",
      "\n",
      "WARNING:tensorflow:Variable += will be deprecated. Use variable.assign_add if you want assignment to the variable value or 'x = x + y' if you want a new python Tensor object.\n",
      "WARNING:tensorflow:From /usr/local/lib/python3.6/dist-packages/tensorflow_core/python/ops/math_grad.py:1375: where (from tensorflow.python.ops.array_ops) is deprecated and will be removed in a future version.\n",
      "Instructions for updating:\n",
      "Use tf.where in 2.0, which has the same broadcast rule as np.where\n",
      "WARNING:tensorflow:From /usr/local/lib/python3.6/dist-packages/tffm/core.py:229: The name tf.global_variables_initializer is deprecated. Please use tf.compat.v1.global_variables_initializer instead.\n",
      "\n",
      "WARNING:tensorflow:From /usr/local/lib/python3.6/dist-packages/tffm/core.py:230: The name tf.summary.merge_all is deprecated. Please use tf.compat.v1.summary.merge_all instead.\n",
      "\n",
      "WARNING:tensorflow:From /usr/local/lib/python3.6/dist-packages/tffm/core.py:231: The name tf.train.Saver is deprecated. Please use tf.compat.v1.train.Saver instead.\n",
      "\n",
      "WARNING:tensorflow:From /usr/local/lib/python3.6/dist-packages/tffm/base.py:198: The name tf.Session is deprecated. Please use tf.compat.v1.Session instead.\n",
      "\n"
     ]
    },
    {
     "name": "stderr",
     "output_type": "stream",
     "text": [
      "100%|██████████| 1000/1000 [11:46<00:00,  1.42epoch/s]"
     ]
    },
    {
     "name": "stdout",
     "output_type": "stream",
     "text": [
      "[order=3] accuracy: 0.11131897047940137\n",
      "1.22329549218008\n"
     ]
    },
    {
     "name": "stderr",
     "output_type": "stream",
     "text": [
      "\n"
     ]
    }
   ],
   "source": [
    "from tffm import TFFMRegressor\n",
    "from sklearn.metrics import mean_squared_error\n",
    "\n",
    "model = TFFMRegressor(\n",
    "  order=3, \n",
    "  rank=10, \n",
    "  optimizer=tf.train.AdamOptimizer(learning_rate=0.0003), \n",
    "  n_epochs=1000, \n",
    "  batch_size=1024,\n",
    "  init_std=0.001,\n",
    "  input_type='sparse',\n",
    "  reg=0.01,\n",
    "  seed=100\n",
    ")\n",
    "\n",
    "model.fit(X_tr_sparse, tr_y, show_progress=True)\n",
    "predictions = model.predict(X_te_sparse)\n",
    "print('[order={}] accuracy: {}'.format(3, accuracy_score(te_y, predictions > 0)))\n",
    "print(mean_squared_error(te_y, predictions))"
   ]
  },
  {
   "cell_type": "code",
   "execution_count": 0,
   "metadata": {
    "colab": {
     "base_uri": "https://localhost:8080/",
     "height": 119
    },
    "colab_type": "code",
    "executionInfo": {
     "elapsed": 860067,
     "status": "ok",
     "timestamp": 1576483560697,
     "user": {
      "displayName": "Jing You",
      "photoUrl": "https://lh3.googleusercontent.com/a-/AAuE7mD9koZmQ--E9TRLRT-H7tZX_IBWzKU9Fpyppeij=s64",
      "userId": "15426669745561256433"
     },
     "user_tz": 300
    },
    "id": "0S7ewcoReyPv",
    "outputId": "16f56f29-d628-4936-dff0-f373d21c367f"
   },
   "outputs": [
    {
     "name": "stdout",
     "output_type": "stream",
     "text": [
      "Requirement already satisfied: tffm in /usr/local/lib/python3.6/dist-packages (1.0.1)\n",
      "Requirement already satisfied: numpy in /usr/local/lib/python3.6/dist-packages (from tffm) (1.17.4)\n",
      "Requirement already satisfied: scikit-learn in /usr/local/lib/python3.6/dist-packages (from tffm) (0.21.3)\n",
      "Requirement already satisfied: tqdm in /usr/local/lib/python3.6/dist-packages (from tffm) (4.28.1)\n",
      "Requirement already satisfied: scipy>=0.17.0 in /usr/local/lib/python3.6/dist-packages (from scikit-learn->tffm) (1.3.3)\n",
      "Requirement already satisfied: joblib>=0.11 in /usr/local/lib/python3.6/dist-packages (from scikit-learn->tffm) (0.14.1)\n"
     ]
    }
   ],
   "source": [
    "!pip install tffm"
   ]
  },
  {
   "cell_type": "code",
   "execution_count": 22,
   "metadata": {
    "colab": {
     "base_uri": "https://localhost:8080/",
     "height": 34
    },
    "colab_type": "code",
    "executionInfo": {
     "elapsed": 220,
     "status": "ok",
     "timestamp": 1576806985290,
     "user": {
      "displayName": "Jing You",
      "photoUrl": "https://lh3.googleusercontent.com/a-/AAuE7mD9koZmQ--E9TRLRT-H7tZX_IBWzKU9Fpyppeij=s64",
      "userId": "15426669745561256433"
     },
     "user_tz": 300
    },
    "id": "InClgQN77Shy",
    "outputId": "bb92e142-3e36-45d8-af37-7244378c7b69"
   },
   "outputs": [
    {
     "name": "stdout",
     "output_type": "stream",
     "text": [
      "1.4964518611881041\n"
     ]
    }
   ],
   "source": [
    "print(mean_squared_error(te_y, predictions))"
   ]
  },
  {
   "cell_type": "code",
   "execution_count": 0,
   "metadata": {
    "colab": {},
    "colab_type": "code",
    "id": "tUmjH6RKe610"
   },
   "outputs": [],
   "source": [
    "pred_train_y = model.predict(X_tr_sparse)"
   ]
  },
  {
   "cell_type": "code",
   "execution_count": 0,
   "metadata": {
    "colab": {},
    "colab_type": "code",
    "id": "GHRXkZ8FvRQX"
   },
   "outputs": [],
   "source": [
    "pd.DataFrame(\n",
    "    pred_train_y, \n",
    "    index=train_y.index, \n",
    "    columns=['stars']\n",
    ").to_csv(\n",
    "    filePath + 'tffm_trainPredict.csv', index=False\n",
    ")\n",
    "\n",
    "pd.DataFrame(\n",
    "    predictions, \n",
    "    index=test_y.index, \n",
    "    columns=['stars']\n",
    ").to_csv(\n",
    "    filePath + 'tffm_testPredict.csv', index=False\n",
    "  )"
   ]
  },
  {
   "cell_type": "code",
   "execution_count": 0,
   "metadata": {
    "colab": {},
    "colab_type": "code",
    "id": "4XXTL1wS715O"
   },
   "outputs": [],
   "source": []
  }
 ],
 "metadata": {
  "accelerator": "TPU",
  "colab": {
   "collapsed_sections": [],
   "machine_shape": "hm",
   "name": "tffm_quantile.ipynb",
   "provenance": []
  },
  "kernelspec": {
   "display_name": "Python 3",
   "language": "python",
   "name": "python3"
  },
  "language_info": {
   "codemirror_mode": {
    "name": "ipython",
    "version": 3
   },
   "file_extension": ".py",
   "mimetype": "text/x-python",
   "name": "python",
   "nbconvert_exporter": "python",
   "pygments_lexer": "ipython3",
   "version": "3.8.5"
  }
 },
 "nbformat": 4,
 "nbformat_minor": 1
}
