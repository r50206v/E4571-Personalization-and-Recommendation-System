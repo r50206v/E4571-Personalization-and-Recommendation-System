{
 "cells": [
  {
   "cell_type": "markdown",
   "metadata": {
    "colab_type": "text",
    "id": "RP-ot6sGKuH8"
   },
   "source": [
    "### Install All Requirements On Colab"
   ]
  },
  {
   "cell_type": "code",
   "execution_count": 0,
   "metadata": {
    "colab": {
     "base_uri": "https://localhost:8080/",
     "height": 70
    },
    "colab_type": "code",
    "executionInfo": {
     "elapsed": 3912,
     "status": "ok",
     "timestamp": 1576436684923,
     "user": {
      "displayName": "Yi Ping Tseng",
      "photoUrl": "https://lh3.googleusercontent.com/a-/AAuE7mAXrUpBUXsYV8j06bpUmukzw7w6-gHHUFTtvYmo=s64",
      "userId": "12674162944309740008"
     },
     "user_tz": 300
    },
    "id": "FHD-nxW5Bdl-",
    "outputId": "24cad04b-89fd-498b-fb5a-a1d5a6a1da04"
   },
   "outputs": [
    {
     "name": "stdout",
     "output_type": "stream",
     "text": [
      "Requirement already satisfied: pyspark in /usr/local/lib/python3.6/dist-packages (2.4.4)\n",
      "Requirement already satisfied: py4j==0.10.7 in /usr/local/lib/python3.6/dist-packages (from pyspark) (0.10.7)\n"
     ]
    }
   ],
   "source": [
    "!pip install pyspark\n",
    "import os\n",
    "import pandas as pd\n",
    "import pyspark\n",
    "from pyspark import SparkFiles\n",
    "from pyspark import SparkContext\n",
    "from pyspark.sql import SQLContext\n",
    "from pyspark.sql.functions import rand, col\n",
    "from pyspark.ml.recommendation import ALS, ALSModel\n",
    "from pyspark.ml.evaluation import RegressionEvaluator\n",
    "from pyspark.ml.tuning import ParamGridBuilder, CrossValidator"
   ]
  },
  {
   "cell_type": "code",
   "execution_count": 0,
   "metadata": {
    "colab": {},
    "colab_type": "code",
    "id": "fog-nv2WzaOw"
   },
   "outputs": [],
   "source": [
    "sc = SparkContext()"
   ]
  },
  {
   "cell_type": "code",
   "execution_count": 0,
   "metadata": {
    "colab": {
     "base_uri": "https://localhost:8080/",
     "height": 151
    },
    "colab_type": "code",
    "executionInfo": {
     "elapsed": 3804,
     "status": "ok",
     "timestamp": 1576436695839,
     "user": {
      "displayName": "Yi Ping Tseng",
      "photoUrl": "https://lh3.googleusercontent.com/a-/AAuE7mAXrUpBUXsYV8j06bpUmukzw7w6-gHHUFTtvYmo=s64",
      "userId": "12674162944309740008"
     },
     "user_tz": 300
    },
    "id": "HOFquxC9fr_7",
    "outputId": "c0c98462-1195-4a28-9328-cecd52ea443a"
   },
   "outputs": [
    {
     "name": "stdout",
     "output_type": "stream",
     "text": [
      "Reading package lists... Done\n",
      "Building dependency tree       \n",
      "Reading state information... Done\n",
      "openjdk-8-jdk is already the newest version (8u222-b10-1ubuntu1~18.04.1).\n",
      "The following package was automatically installed and is no longer required:\n",
      "  libnvidia-common-430\n",
      "Use 'apt autoremove' to remove it.\n",
      "0 upgraded, 0 newly installed, 0 to remove and 7 not upgraded.\n"
     ]
    }
   ],
   "source": [
    "!apt install openjdk-8-jdk"
   ]
  },
  {
   "cell_type": "code",
   "execution_count": 0,
   "metadata": {
    "colab": {
     "base_uri": "https://localhost:8080/",
     "height": 188
    },
    "colab_type": "code",
    "executionInfo": {
     "elapsed": 9188,
     "status": "ok",
     "timestamp": 1576436709874,
     "user": {
      "displayName": "Yi Ping Tseng",
      "photoUrl": "https://lh3.googleusercontent.com/a-/AAuE7mAXrUpBUXsYV8j06bpUmukzw7w6-gHHUFTtvYmo=s64",
      "userId": "12674162944309740008"
     },
     "user_tz": 300
    },
    "id": "W1BhnpmafuTX",
    "outputId": "d135393d-470c-44e0-bf33-6f234b1d3087"
   },
   "outputs": [
    {
     "name": "stdout",
     "output_type": "stream",
     "text": [
      "There are 2 choices for the alternative java (providing /usr/bin/java).\n",
      "\n",
      "  Selection    Path                                            Priority   Status\n",
      "------------------------------------------------------------\n",
      "  0            /usr/lib/jvm/java-11-openjdk-amd64/bin/java      1111      auto mode\n",
      "  1            /usr/lib/jvm/java-11-openjdk-amd64/bin/java      1111      manual mode\n",
      "* 2            /usr/lib/jvm/java-8-openjdk-amd64/jre/bin/java   1081      manual mode\n",
      "\n",
      "Press <enter> to keep the current choice[*], or type selection number: 2\n"
     ]
    }
   ],
   "source": [
    "!update-alternatives --config java"
   ]
  },
  {
   "cell_type": "code",
   "execution_count": 0,
   "metadata": {
    "colab": {
     "base_uri": "https://localhost:8080/",
     "height": 67
    },
    "colab_type": "code",
    "executionInfo": {
     "elapsed": 1703,
     "status": "ok",
     "timestamp": 1576436712719,
     "user": {
      "displayName": "Yi Ping Tseng",
      "photoUrl": "https://lh3.googleusercontent.com/a-/AAuE7mAXrUpBUXsYV8j06bpUmukzw7w6-gHHUFTtvYmo=s64",
      "userId": "12674162944309740008"
     },
     "user_tz": 300
    },
    "id": "oLyo7mx0fuIw",
    "outputId": "98f71790-e0b4-454b-d3ec-1888c9e7ffb5"
   },
   "outputs": [
    {
     "name": "stdout",
     "output_type": "stream",
     "text": [
      "openjdk version \"1.8.0_222\"\n",
      "OpenJDK Runtime Environment (build 1.8.0_222-8u222-b10-1ubuntu1~18.04.1-b10)\n",
      "OpenJDK 64-Bit Server VM (build 25.222-b10, mixed mode)\n"
     ]
    }
   ],
   "source": [
    "!java -version"
   ]
  },
  {
   "cell_type": "code",
   "execution_count": 0,
   "metadata": {
    "colab": {},
    "colab_type": "code",
    "id": "apZ3128NFx5C"
   },
   "outputs": [],
   "source": [
    "filePath = \"/content/drive/My Drive/Yelp Project/data/\""
   ]
  },
  {
   "cell_type": "code",
   "execution_count": 0,
   "metadata": {
    "colab": {
     "base_uri": "https://localhost:8080/",
     "height": 54
    },
    "colab_type": "code",
    "executionInfo": {
     "elapsed": 466,
     "status": "ok",
     "timestamp": 1576436715920,
     "user": {
      "displayName": "Yi Ping Tseng",
      "photoUrl": "https://lh3.googleusercontent.com/a-/AAuE7mAXrUpBUXsYV8j06bpUmukzw7w6-gHHUFTtvYmo=s64",
      "userId": "12674162944309740008"
     },
     "user_tz": 300
    },
    "id": "XySqr6G-Fx3Q",
    "outputId": "ffb7a651-24db-4b8f-989d-0f6a6e09899d"
   },
   "outputs": [
    {
     "name": "stdout",
     "output_type": "stream",
     "text": [
      "Drive already mounted at /content/drive; to attempt to forcibly remount, call drive.mount(\"/content/drive\", force_remount=True).\n"
     ]
    }
   ],
   "source": [
    "from google.colab import drive\n",
    "drive.mount('/content/drive')"
   ]
  },
  {
   "cell_type": "code",
   "execution_count": 0,
   "metadata": {
    "colab": {},
    "colab_type": "code",
    "id": "IJeYjlIqK334"
   },
   "outputs": [],
   "source": []
  },
  {
   "cell_type": "code",
   "execution_count": 0,
   "metadata": {
    "colab": {},
    "colab_type": "code",
    "id": "Z7s3h6ucK4Bo"
   },
   "outputs": [],
   "source": []
  },
  {
   "cell_type": "markdown",
   "metadata": {
    "colab_type": "text",
    "id": "lK8Ls1pnK6T5"
   },
   "source": [
    "### Conver ID From String to Integer"
   ]
  },
  {
   "cell_type": "code",
   "execution_count": 0,
   "metadata": {
    "colab": {},
    "colab_type": "code",
    "id": "SR6st3qHFetw"
   },
   "outputs": [],
   "source": [
    "seed = 100\n",
    "file = filePath + \"yelp_ratings.csv\""
   ]
  },
  {
   "cell_type": "code",
   "execution_count": 0,
   "metadata": {
    "colab": {},
    "colab_type": "code",
    "id": "p0eBHNycK8z0"
   },
   "outputs": [],
   "source": [
    "ratings = pd.read_csv(file)\n",
    "\n",
    "ratings['business_id'] = ratings['business_id'].astype('category')\n",
    "ratings['business_id'] = ratings['business_id'].cat.codes\n",
    "\n",
    "ratings['user_id'] = ratings['user_id'].astype('category')\n",
    "ratings['user_id'] = ratings['user_id'].cat.codes"
   ]
  },
  {
   "cell_type": "code",
   "execution_count": 0,
   "metadata": {
    "colab": {},
    "colab_type": "code",
    "id": "mtArBTyuF_hv"
   },
   "outputs": [],
   "source": [
    "sqlCtx = SQLContext(sc)\n",
    "df = sqlCtx.createDataFrame(ratings)\n",
    "sqlCtx.registerDataFrameAsTable(df, \"df\")\n",
    "df = sqlCtx.sql('''\n",
    "    SELECT \n",
    "        user_id AS user, \n",
    "        business_id AS item,\n",
    "        stars AS rating\n",
    "    FROM df\n",
    "''')"
   ]
  },
  {
   "cell_type": "code",
   "execution_count": 0,
   "metadata": {
    "colab": {
     "base_uri": "https://localhost:8080/",
     "height": 202
    },
    "colab_type": "code",
    "executionInfo": {
     "elapsed": 2886,
     "status": "ok",
     "timestamp": 1576436758858,
     "user": {
      "displayName": "Yi Ping Tseng",
      "photoUrl": "https://lh3.googleusercontent.com/a-/AAuE7mAXrUpBUXsYV8j06bpUmukzw7w6-gHHUFTtvYmo=s64",
      "userId": "12674162944309740008"
     },
     "user_tz": 300
    },
    "id": "uerGiOP2JTqo",
    "outputId": "28a93387-84df-4e09-bbbf-e6821a7ea65f"
   },
   "outputs": [
    {
     "name": "stdout",
     "output_type": "stream",
     "text": [
      "+-----+----+------+\n",
      "| user|item|rating|\n",
      "+-----+----+------+\n",
      "| 9521|6275|   2.0|\n",
      "|40439|8653|   4.0|\n",
      "| 7675|8361|   4.0|\n",
      "|46733|6357|   4.0|\n",
      "|16249|1698|   5.0|\n",
      "+-----+----+------+\n",
      "only showing top 5 rows\n",
      "\n"
     ]
    }
   ],
   "source": [
    "df.show(n=5)"
   ]
  },
  {
   "cell_type": "code",
   "execution_count": 0,
   "metadata": {
    "colab": {
     "base_uri": "https://localhost:8080/",
     "height": 34
    },
    "colab_type": "code",
    "executionInfo": {
     "elapsed": 2835,
     "status": "ok",
     "timestamp": 1576436773199,
     "user": {
      "displayName": "Yi Ping Tseng",
      "photoUrl": "https://lh3.googleusercontent.com/a-/AAuE7mAXrUpBUXsYV8j06bpUmukzw7w6-gHHUFTtvYmo=s64",
      "userId": "12674162944309740008"
     },
     "user_tz": 300
    },
    "id": "AS4ISCX1JFIZ",
    "outputId": "18a7e59a-cafb-460f-a521-753b4c4d0f0d"
   },
   "outputs": [
    {
     "name": "stdout",
     "output_type": "stream",
     "text": [
      "(row, col):  (392471, 3)\n"
     ]
    }
   ],
   "source": [
    "print(\"(row, col): \", (df.count(), len(df.columns)))"
   ]
  },
  {
   "cell_type": "code",
   "execution_count": 0,
   "metadata": {
    "colab": {},
    "colab_type": "code",
    "id": "3W0njCD4LB4q"
   },
   "outputs": [],
   "source": []
  },
  {
   "cell_type": "code",
   "execution_count": 0,
   "metadata": {
    "colab": {},
    "colab_type": "code",
    "id": "Yu90JCkNLCDP"
   },
   "outputs": [],
   "source": []
  },
  {
   "cell_type": "markdown",
   "metadata": {
    "colab_type": "text",
    "id": "Bu_z3AHeLCUT"
   },
   "source": [
    "### Split Train / Test Spark DataFrame"
   ]
  },
  {
   "cell_type": "code",
   "execution_count": 0,
   "metadata": {
    "colab": {},
    "colab_type": "code",
    "id": "9Q4VBZXl9D-I"
   },
   "outputs": [],
   "source": [
    "dftrain = df.where(col('TrainTest') == 1).drop(*[\"TrainTest\", \"date\"])\n",
    "dftest = df.where(col('TrainTest') == 0).drop(*[\"TrainTest\", \"date\"])"
   ]
  },
  {
   "cell_type": "code",
   "execution_count": 0,
   "metadata": {
    "colab": {
     "base_uri": "https://localhost:8080/",
     "height": 319
    },
    "colab_type": "code",
    "executionInfo": {
     "elapsed": 1946,
     "status": "ok",
     "timestamp": 1576436784333,
     "user": {
      "displayName": "Yi Ping Tseng",
      "photoUrl": "https://lh3.googleusercontent.com/a-/AAuE7mAXrUpBUXsYV8j06bpUmukzw7w6-gHHUFTtvYmo=s64",
      "userId": "12674162944309740008"
     },
     "user_tz": 300
    },
    "id": "BoXv1auKJMMk",
    "outputId": "d8420a89-cec2-479a-844c-d75de45549b9"
   },
   "outputs": [
    {
     "name": "stdout",
     "output_type": "stream",
     "text": [
      "root\n",
      " |-- user: long (nullable = true)\n",
      " |-- item: long (nullable = true)\n",
      " |-- rating: double (nullable = true)\n",
      "\n",
      "None\n",
      "(row, col):  (343827, 3)\n",
      "+-----+----+------+\n",
      "| user|item|rating|\n",
      "+-----+----+------+\n",
      "| 9521|6275|   2.0|\n",
      "|40439|8653|   4.0|\n",
      "| 7675|8361|   4.0|\n",
      "|46733|6357|   4.0|\n",
      "|16249|1698|   5.0|\n",
      "+-----+----+------+\n",
      "only showing top 5 rows\n",
      "\n"
     ]
    }
   ],
   "source": [
    "print(dftrain.printSchema())\n",
    "print(\"(row, col): \", (dftrain.count(), len(dftrain.columns)))\n",
    "dftrain.show(n=5)"
   ]
  },
  {
   "cell_type": "code",
   "execution_count": 0,
   "metadata": {
    "colab": {
     "base_uri": "https://localhost:8080/",
     "height": 319
    },
    "colab_type": "code",
    "executionInfo": {
     "elapsed": 2085,
     "status": "ok",
     "timestamp": 1576436845532,
     "user": {
      "displayName": "Yi Ping Tseng",
      "photoUrl": "https://lh3.googleusercontent.com/a-/AAuE7mAXrUpBUXsYV8j06bpUmukzw7w6-gHHUFTtvYmo=s64",
      "userId": "12674162944309740008"
     },
     "user_tz": 300
    },
    "id": "8wnUiMkyJax_",
    "outputId": "fae82bee-13b2-4256-aa0a-ad3749c5a287"
   },
   "outputs": [
    {
     "name": "stdout",
     "output_type": "stream",
     "text": [
      "root\n",
      " |-- user: long (nullable = true)\n",
      " |-- item: long (nullable = true)\n",
      " |-- rating: double (nullable = true)\n",
      "\n",
      "None\n",
      "(row, col):  (48644, 3)\n",
      "+-----+----+------+\n",
      "| user|item|rating|\n",
      "+-----+----+------+\n",
      "|27374|6648|   2.0|\n",
      "|31935| 632|   5.0|\n",
      "| 4122|2391|   3.0|\n",
      "|32566|  34|   5.0|\n",
      "| 7675|8298|   5.0|\n",
      "+-----+----+------+\n",
      "only showing top 5 rows\n",
      "\n"
     ]
    }
   ],
   "source": [
    "print(dftest.printSchema())\n",
    "print(\"(row, col): \", (dftest.count(), len(dftest.columns)))\n",
    "dftest.show(n=5)"
   ]
  },
  {
   "cell_type": "code",
   "execution_count": 0,
   "metadata": {
    "colab": {},
    "colab_type": "code",
    "id": "AqegN491LHbO"
   },
   "outputs": [],
   "source": []
  },
  {
   "cell_type": "code",
   "execution_count": 0,
   "metadata": {
    "colab": {},
    "colab_type": "code",
    "id": "8rcMUnHULHkz"
   },
   "outputs": [],
   "source": []
  },
  {
   "cell_type": "markdown",
   "metadata": {
    "colab_type": "text",
    "id": "TR3zk3qnLHz4"
   },
   "source": [
    "### Model ALS on User-Business Rating Matrix"
   ]
  },
  {
   "cell_type": "code",
   "execution_count": 0,
   "metadata": {
    "colab": {},
    "colab_type": "code",
    "id": "1RkYBwrPJjXx"
   },
   "outputs": [],
   "source": [
    "als = ALS(nonnegative=True, checkpointInterval=3, coldStartStrategy=\"nan\")\n",
    "paramGrid = ParamGridBuilder()\\\n",
    "    .addGrid(als.rank, [5, 30, 70])\\\n",
    "    .addGrid(als.regParam, [0.1, 1, 10])\\\n",
    "    .build()"
   ]
  },
  {
   "cell_type": "code",
   "execution_count": 0,
   "metadata": {
    "colab": {},
    "colab_type": "code",
    "id": "sv7bFaUiKJ1a"
   },
   "outputs": [],
   "source": [
    "rmse = RegressionEvaluator(metricName=\"rmse\", labelCol=\"rating\")\n",
    "tvs = CrossValidator(\n",
    "    estimator=als,\n",
    "    estimatorParamMaps=paramGrid,\n",
    "    evaluator=rmse,\n",
    "    seed=seed,\n",
    "    numFolds=3,\n",
    "    parallelism=5\n",
    ")"
   ]
  },
  {
   "cell_type": "code",
   "execution_count": 0,
   "metadata": {
    "colab": {
     "base_uri": "https://localhost:8080/",
     "height": 202
    },
    "colab_type": "code",
    "executionInfo": {
     "elapsed": 1813688,
     "status": "ok",
     "timestamp": 1576438671687,
     "user": {
      "displayName": "Yi Ping Tseng",
      "photoUrl": "https://lh3.googleusercontent.com/a-/AAuE7mAXrUpBUXsYV8j06bpUmukzw7w6-gHHUFTtvYmo=s64",
      "userId": "12674162944309740008"
     },
     "user_tz": 300
    },
    "id": "IXFLonAkKLG1",
    "outputId": "a381b1b9-8f30-4342-be3a-06c9f849b697"
   },
   "outputs": [
    {
     "name": "stdout",
     "output_type": "stream",
     "text": [
      "+-----+----+------+----------+\n",
      "| user|item|rating|prediction|\n",
      "+-----+----+------+----------+\n",
      "| 7168| 148|   5.0|  4.776293|\n",
      "|47211| 148|   5.0|  3.981956|\n",
      "|17751| 148|   4.0| 3.6792192|\n",
      "|20398| 148|   3.0| 2.4057302|\n",
      "|30519| 148|   3.0| 3.4807475|\n",
      "+-----+----+------+----------+\n",
      "only showing top 5 rows\n",
      "\n"
     ]
    }
   ],
   "source": [
    "model = tvs.fit(dftrain)\n",
    "trainPred = model.transform(dftrain)\n",
    "trainPred.show(n=5)"
   ]
  },
  {
   "cell_type": "code",
   "execution_count": 0,
   "metadata": {
    "colab": {
     "base_uri": "https://localhost:8080/",
     "height": 218
    },
    "colab_type": "code",
    "executionInfo": {
     "elapsed": 1828416,
     "status": "ok",
     "timestamp": 1576438689212,
     "user": {
      "displayName": "Yi Ping Tseng",
      "photoUrl": "https://lh3.googleusercontent.com/a-/AAuE7mAXrUpBUXsYV8j06bpUmukzw7w6-gHHUFTtvYmo=s64",
      "userId": "12674162944309740008"
     },
     "user_tz": 300
    },
    "id": "n8NvJRBZqbYF",
    "outputId": "b6e0ab74-9e7f-45b9-8b21-451e57ee2308"
   },
   "outputs": [
    {
     "name": "stdout",
     "output_type": "stream",
     "text": [
      "+-----+----+------+----------+\n",
      "| user|item|rating|prediction|\n",
      "+-----+----+------+----------+\n",
      "|47501| 148|   2.0|  3.451548|\n",
      "|33762| 148|   5.0| 3.8014915|\n",
      "|25638| 148|   5.0|  3.383726|\n",
      "|16506| 148|   5.0| 4.2565937|\n",
      "|45750| 148|   2.0|  3.510189|\n",
      "+-----+----+------+----------+\n",
      "only showing top 5 rows\n",
      "\n"
     ]
    },
    {
     "data": {
      "text/plain": [
       "nan"
      ]
     },
     "execution_count": 19,
     "metadata": {
      "tags": []
     },
     "output_type": "execute_result"
    }
   ],
   "source": [
    "testPred = model.transform(dftest)\n",
    "testPred.show(5)\n",
    "rmse.evaluate(testPred)"
   ]
  },
  {
   "cell_type": "code",
   "execution_count": 0,
   "metadata": {
    "colab": {
     "base_uri": "https://localhost:8080/",
     "height": 50
    },
    "colab_type": "code",
    "executionInfo": {
     "elapsed": 384,
     "status": "ok",
     "timestamp": 1576446238316,
     "user": {
      "displayName": "Yi Ping Tseng",
      "photoUrl": "https://lh3.googleusercontent.com/a-/AAuE7mAXrUpBUXsYV8j06bpUmukzw7w6-gHHUFTtvYmo=s64",
      "userId": "12674162944309740008"
     },
     "user_tz": 300
    },
    "id": "3Id5C3TBZZ3n",
    "outputId": "429e16fe-e510-4298-f2fa-89e47c827b93"
   },
   "outputs": [
    {
     "name": "stdout",
     "output_type": "stream",
     "text": [
      "final parameters: \n",
      "rank:  5\n"
     ]
    }
   ],
   "source": [
    "print(\"final parameters: \\nrank: %2.f\" % (model.bestModel.rank)) "
   ]
  },
  {
   "cell_type": "code",
   "execution_count": 0,
   "metadata": {
    "colab": {},
    "colab_type": "code",
    "id": "owIs6Wz7KNPo"
   },
   "outputs": [],
   "source": [
    "#  from datetime import datetime\n",
    "# model_path = filePath + 'ALS_model_' + datetime.now().strftime(\"%Y-%m-%d_%H:%M:%S\")\n",
    "# model.save(model_path)"
   ]
  },
  {
   "cell_type": "code",
   "execution_count": 0,
   "metadata": {
    "colab": {},
    "colab_type": "code",
    "id": "xEx74vORYZ-8"
   },
   "outputs": [],
   "source": [
    "# model_path = filePath + 'ALS_model_2019-12-14_01:05:16'\n",
    "# print(model_path)"
   ]
  },
  {
   "cell_type": "code",
   "execution_count": 0,
   "metadata": {
    "colab": {},
    "colab_type": "code",
    "id": "IIjbahiIYaH_"
   },
   "outputs": [],
   "source": []
  },
  {
   "cell_type": "code",
   "execution_count": 0,
   "metadata": {
    "colab": {},
    "colab_type": "code",
    "id": "_E22ZcSoLQ8z"
   },
   "outputs": [],
   "source": []
  },
  {
   "cell_type": "markdown",
   "metadata": {
    "colab_type": "text",
    "id": "98L2CZ4jLSvd"
   },
   "source": [
    "### Check / Output Results"
   ]
  },
  {
   "cell_type": "code",
   "execution_count": 0,
   "metadata": {
    "colab": {},
    "colab_type": "code",
    "id": "8ON_RFq3qtly"
   },
   "outputs": [],
   "source": [
    "trainPredDF = trainPred.toPandas()\n",
    "testPredDF = testPred.toPandas()"
   ]
  },
  {
   "cell_type": "code",
   "execution_count": 0,
   "metadata": {
    "colab": {
     "base_uri": "https://localhost:8080/",
     "height": 34
    },
    "colab_type": "code",
    "executionInfo": {
     "elapsed": 35384,
     "status": "ok",
     "timestamp": 1576446468739,
     "user": {
      "displayName": "Yi Ping Tseng",
      "photoUrl": "https://lh3.googleusercontent.com/a-/AAuE7mAXrUpBUXsYV8j06bpUmukzw7w6-gHHUFTtvYmo=s64",
      "userId": "12674162944309740008"
     },
     "user_tz": 300
    },
    "id": "g2m8tLoXqtgB",
    "outputId": "201941b4-e248-4b5e-ff00-c6b8abd52cbb"
   },
   "outputs": [
    {
     "data": {
      "text/plain": [
       "(48644, 4)"
      ]
     },
     "execution_count": 123,
     "metadata": {
      "tags": []
     },
     "output_type": "execute_result"
    }
   ],
   "source": [
    "testPredDF.shape"
   ]
  },
  {
   "cell_type": "code",
   "execution_count": 0,
   "metadata": {
    "colab": {
     "base_uri": "https://localhost:8080/",
     "height": 34
    },
    "colab_type": "code",
    "executionInfo": {
     "elapsed": 33632,
     "status": "ok",
     "timestamp": 1576446468740,
     "user": {
      "displayName": "Yi Ping Tseng",
      "photoUrl": "https://lh3.googleusercontent.com/a-/AAuE7mAXrUpBUXsYV8j06bpUmukzw7w6-gHHUFTtvYmo=s64",
      "userId": "12674162944309740008"
     },
     "user_tz": 300
    },
    "id": "5F7VylcEyTpJ",
    "outputId": "d9b739b2-1f33-4435-f609-41a97f550b75"
   },
   "outputs": [
    {
     "data": {
      "text/plain": [
       "7649"
      ]
     },
     "execution_count": 124,
     "metadata": {
      "tags": []
     },
     "output_type": "execute_result"
    }
   ],
   "source": [
    "testPredDF.isnull().values.sum()"
   ]
  },
  {
   "cell_type": "code",
   "execution_count": 0,
   "metadata": {
    "colab": {
     "base_uri": "https://localhost:8080/",
     "height": 101
    },
    "colab_type": "code",
    "executionInfo": {
     "elapsed": 31520,
     "status": "ok",
     "timestamp": 1576446468741,
     "user": {
      "displayName": "Yi Ping Tseng",
      "photoUrl": "https://lh3.googleusercontent.com/a-/AAuE7mAXrUpBUXsYV8j06bpUmukzw7w6-gHHUFTtvYmo=s64",
      "userId": "12674162944309740008"
     },
     "user_tz": 300
    },
    "id": "D1GUYK4k8cVy",
    "outputId": "604c77f0-f2b8-488a-eb7d-ecad8bc9f4e2"
   },
   "outputs": [
    {
     "data": {
      "text/plain": [
       "user             0\n",
       "item             0\n",
       "rating           0\n",
       "prediction    7649\n",
       "dtype: int64"
      ]
     },
     "execution_count": 125,
     "metadata": {
      "tags": []
     },
     "output_type": "execute_result"
    }
   ],
   "source": [
    "testPredDF.isnull().sum()"
   ]
  },
  {
   "cell_type": "code",
   "execution_count": 0,
   "metadata": {
    "colab": {
     "base_uri": "https://localhost:8080/",
     "height": 195
    },
    "colab_type": "code",
    "executionInfo": {
     "elapsed": 29328,
     "status": "ok",
     "timestamp": 1576446468743,
     "user": {
      "displayName": "Yi Ping Tseng",
      "photoUrl": "https://lh3.googleusercontent.com/a-/AAuE7mAXrUpBUXsYV8j06bpUmukzw7w6-gHHUFTtvYmo=s64",
      "userId": "12674162944309740008"
     },
     "user_tz": 300
    },
    "id": "BG2p66-Dya4D",
    "outputId": "482af07e-af7d-4cbc-9ad2-d96448f6b4fc"
   },
   "outputs": [
    {
     "data": {
      "text/html": [
       "<div>\n",
       "<style scoped>\n",
       "    .dataframe tbody tr th:only-of-type {\n",
       "        vertical-align: middle;\n",
       "    }\n",
       "\n",
       "    .dataframe tbody tr th {\n",
       "        vertical-align: top;\n",
       "    }\n",
       "\n",
       "    .dataframe thead th {\n",
       "        text-align: right;\n",
       "    }\n",
       "</style>\n",
       "<table border=\"1\" class=\"dataframe\">\n",
       "  <thead>\n",
       "    <tr style=\"text-align: right;\">\n",
       "      <th></th>\n",
       "      <th>user</th>\n",
       "      <th>item</th>\n",
       "      <th>rating</th>\n",
       "      <th>prediction</th>\n",
       "    </tr>\n",
       "  </thead>\n",
       "  <tbody>\n",
       "    <tr>\n",
       "      <th>0</th>\n",
       "      <td>47501</td>\n",
       "      <td>148</td>\n",
       "      <td>2.0</td>\n",
       "      <td>3.451548</td>\n",
       "    </tr>\n",
       "    <tr>\n",
       "      <th>1</th>\n",
       "      <td>33762</td>\n",
       "      <td>148</td>\n",
       "      <td>5.0</td>\n",
       "      <td>3.801491</td>\n",
       "    </tr>\n",
       "    <tr>\n",
       "      <th>2</th>\n",
       "      <td>25638</td>\n",
       "      <td>148</td>\n",
       "      <td>5.0</td>\n",
       "      <td>3.383726</td>\n",
       "    </tr>\n",
       "    <tr>\n",
       "      <th>3</th>\n",
       "      <td>16506</td>\n",
       "      <td>148</td>\n",
       "      <td>5.0</td>\n",
       "      <td>4.256594</td>\n",
       "    </tr>\n",
       "    <tr>\n",
       "      <th>4</th>\n",
       "      <td>45750</td>\n",
       "      <td>148</td>\n",
       "      <td>2.0</td>\n",
       "      <td>3.510189</td>\n",
       "    </tr>\n",
       "  </tbody>\n",
       "</table>\n",
       "</div>"
      ],
      "text/plain": [
       "    user  item  rating  prediction\n",
       "0  47501   148     2.0    3.451548\n",
       "1  33762   148     5.0    3.801491\n",
       "2  25638   148     5.0    3.383726\n",
       "3  16506   148     5.0    4.256594\n",
       "4  45750   148     2.0    3.510189"
      ]
     },
     "execution_count": 126,
     "metadata": {
      "tags": []
     },
     "output_type": "execute_result"
    }
   ],
   "source": [
    "testPredDF.head()"
   ]
  },
  {
   "cell_type": "code",
   "execution_count": 0,
   "metadata": {
    "colab": {},
    "colab_type": "code",
    "id": "Qzq7X8Ky0SGJ"
   },
   "outputs": [],
   "source": [
    "trainRatingMean = ratings.loc[ratings['TrainTest'] == 1]['stars'].mean()\n",
    "testPredDF.fillna(trainRatingMean, inplace=True)"
   ]
  },
  {
   "cell_type": "code",
   "execution_count": 0,
   "metadata": {
    "colab": {
     "base_uri": "https://localhost:8080/",
     "height": 195
    },
    "colab_type": "code",
    "executionInfo": {
     "elapsed": 813,
     "status": "ok",
     "timestamp": 1576446469860,
     "user": {
      "displayName": "Yi Ping Tseng",
      "photoUrl": "https://lh3.googleusercontent.com/a-/AAuE7mAXrUpBUXsYV8j06bpUmukzw7w6-gHHUFTtvYmo=s64",
      "userId": "12674162944309740008"
     },
     "user_tz": 300
    },
    "id": "zDmq3Wc5h88G",
    "outputId": "f601faa8-1f3b-4820-e8d2-08e6b79d52bd"
   },
   "outputs": [
    {
     "data": {
      "text/html": [
       "<div>\n",
       "<style scoped>\n",
       "    .dataframe tbody tr th:only-of-type {\n",
       "        vertical-align: middle;\n",
       "    }\n",
       "\n",
       "    .dataframe tbody tr th {\n",
       "        vertical-align: top;\n",
       "    }\n",
       "\n",
       "    .dataframe thead th {\n",
       "        text-align: right;\n",
       "    }\n",
       "</style>\n",
       "<table border=\"1\" class=\"dataframe\">\n",
       "  <thead>\n",
       "    <tr style=\"text-align: right;\">\n",
       "      <th></th>\n",
       "      <th>user</th>\n",
       "      <th>item</th>\n",
       "      <th>rating</th>\n",
       "      <th>prediction</th>\n",
       "    </tr>\n",
       "  </thead>\n",
       "  <tbody>\n",
       "    <tr>\n",
       "      <th>0</th>\n",
       "      <td>47501</td>\n",
       "      <td>148</td>\n",
       "      <td>2.0</td>\n",
       "      <td>3.451548</td>\n",
       "    </tr>\n",
       "    <tr>\n",
       "      <th>1</th>\n",
       "      <td>33762</td>\n",
       "      <td>148</td>\n",
       "      <td>5.0</td>\n",
       "      <td>3.801491</td>\n",
       "    </tr>\n",
       "    <tr>\n",
       "      <th>2</th>\n",
       "      <td>25638</td>\n",
       "      <td>148</td>\n",
       "      <td>5.0</td>\n",
       "      <td>3.383726</td>\n",
       "    </tr>\n",
       "    <tr>\n",
       "      <th>3</th>\n",
       "      <td>16506</td>\n",
       "      <td>148</td>\n",
       "      <td>5.0</td>\n",
       "      <td>4.256594</td>\n",
       "    </tr>\n",
       "    <tr>\n",
       "      <th>4</th>\n",
       "      <td>45750</td>\n",
       "      <td>148</td>\n",
       "      <td>2.0</td>\n",
       "      <td>3.510189</td>\n",
       "    </tr>\n",
       "  </tbody>\n",
       "</table>\n",
       "</div>"
      ],
      "text/plain": [
       "    user  item  rating  prediction\n",
       "0  47501   148     2.0    3.451548\n",
       "1  33762   148     5.0    3.801491\n",
       "2  25638   148     5.0    3.383726\n",
       "3  16506   148     5.0    4.256594\n",
       "4  45750   148     2.0    3.510189"
      ]
     },
     "execution_count": 128,
     "metadata": {
      "tags": []
     },
     "output_type": "execute_result"
    }
   ],
   "source": [
    "testPredDF.head()"
   ]
  },
  {
   "cell_type": "code",
   "execution_count": 0,
   "metadata": {
    "colab": {},
    "colab_type": "code",
    "id": "hOIhygmeLrum"
   },
   "outputs": [],
   "source": [
    "testPred.toPandas().to_csv(filePath + 'ALS_testPrediction.csv', index=False)\n",
    "trainPred.toPandas().to_csv(filePath + 'ALS_trainPrediction.csv', index=False)"
   ]
  },
  {
   "cell_type": "code",
   "execution_count": 0,
   "metadata": {
    "colab": {},
    "colab_type": "code",
    "id": "VC8xXnfHLiSa"
   },
   "outputs": [],
   "source": []
  },
  {
   "cell_type": "code",
   "execution_count": 0,
   "metadata": {
    "colab": {},
    "colab_type": "code",
    "id": "oWZLCOq9Liav"
   },
   "outputs": [],
   "source": []
  },
  {
   "cell_type": "markdown",
   "metadata": {
    "colab_type": "text",
    "id": "rsDqg5jvLiyo"
   },
   "source": [
    "### Calculate Model Performance"
   ]
  },
  {
   "cell_type": "code",
   "execution_count": 0,
   "metadata": {
    "colab": {
     "base_uri": "https://localhost:8080/",
     "height": 34
    },
    "colab_type": "code",
    "executionInfo": {
     "elapsed": 594,
     "status": "ok",
     "timestamp": 1576446518075,
     "user": {
      "displayName": "Yi Ping Tseng",
      "photoUrl": "https://lh3.googleusercontent.com/a-/AAuE7mAXrUpBUXsYV8j06bpUmukzw7w6-gHHUFTtvYmo=s64",
      "userId": "12674162944309740008"
     },
     "user_tz": 300
    },
    "id": "h2Bq6UVhiAph",
    "outputId": "a248d4a7-3807-4de6-c06c-c2a6dd472486"
   },
   "outputs": [
    {
     "data": {
      "text/plain": [
       "2.4158066048359124"
      ]
     },
     "execution_count": 129,
     "metadata": {
      "tags": []
     },
     "output_type": "execute_result"
    }
   ],
   "source": [
    "from sklearn.metrics import mean_squared_error\n",
    "mean_squared_error(testPredDF['rating'], testPredDF['prediction'])"
   ]
  },
  {
   "cell_type": "code",
   "execution_count": 0,
   "metadata": {
    "colab": {},
    "colab_type": "code",
    "id": "kRs8V8HqiAvb"
   },
   "outputs": [],
   "source": []
  }
 ],
 "metadata": {
  "colab": {
   "collapsed_sections": [],
   "name": "ALS modelling.ipynb",
   "provenance": []
  },
  "kernelspec": {
   "display_name": "Python 3",
   "language": "python",
   "name": "python3"
  },
  "language_info": {
   "codemirror_mode": {
    "name": "ipython",
    "version": 3
   },
   "file_extension": ".py",
   "mimetype": "text/x-python",
   "name": "python",
   "nbconvert_exporter": "python",
   "pygments_lexer": "ipython3",
   "version": "3.8.5"
  }
 },
 "nbformat": 4,
 "nbformat_minor": 1
}
